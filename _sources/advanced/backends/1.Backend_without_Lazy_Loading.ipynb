{
 "cells": [
  {
   "cell_type": "markdown",
   "metadata": {},
   "source": [
    "# Binary data without lazy loading\n",
    "\n",
    "\n",
    "**Author**: Aureliana Barghini ([B-Open](https://www.bopen.eu/))"
   ]
  },
  {
   "cell_type": "markdown",
   "metadata": {},
   "source": [
    "## BackendEntrypoint\n",
    "Implement a subclass of `BackendEntrypoint` that expose a method `open_dataset`:\n",
    "\n",
    "```python\n",
    "from xarray.backends import BackendEntrypoint\n",
    "\n",
    "class MyBackendEntrypoint(BackendEntrypoint):\n",
    "    def open_dataset(\n",
    "        self,\n",
    "        filename_or_obj,\n",
    "        *,\n",
    "        drop_variables=None,\n",
    "    ):\n",
    "\n",
    "        return my_open_dataset(filename_or_obj, drop_variables=drop_variables)\n",
    "\n",
    "```"
   ]
  },
  {
   "cell_type": "markdown",
   "metadata": {},
   "source": [
    "## BackendEntrypoint integration\n",
    "Declare this class as an external plugin in your `setup.py`:\n",
    "\n",
    "```python\n",
    "setuptools.setup(\n",
    "    ...\n",
    "    entry_points={\n",
    "        'xarray.backends': ['engine_name=package.module:my_backendentrypoint'],\n",
    "    },\n",
    ")\n",
    "```\n",
    "or pass it in `xr.open_dataset`:\n",
    "\n",
    "```python\n",
    "xr.open_dataset(..., engine=MyBackendEntrypoint)\n",
    "```"
   ]
  },
  {
   "cell_type": "markdown",
   "metadata": {},
   "source": [
    "## Example backend for binary files"
   ]
  },
  {
   "cell_type": "code",
   "execution_count": null,
   "metadata": {},
   "outputs": [],
   "source": [
    "import numpy as np\n",
    "import xarray as xr"
   ]
  },
  {
   "cell_type": "markdown",
   "metadata": {},
   "source": [
    "### Create sample files"
   ]
  },
  {
   "cell_type": "code",
   "execution_count": null,
   "metadata": {},
   "outputs": [],
   "source": [
    "arr = np.arange(30000000, dtype=np.int64)\n",
    "with open(\"foo.bin\", \"w\") as f:\n",
    "    arr.tofile(f)\n",
    "\n",
    "arr = np.arange(30000000, dtype=np.float64)\n",
    "with open(\"foo_float.bin\", \"w\") as f:\n",
    "    arr.tofile(f)"
   ]
  },
  {
   "cell_type": "markdown",
   "metadata": {},
   "source": [
    "### Define the entrypoint\n",
    "Example of backend to open binary files"
   ]
  },
  {
   "cell_type": "code",
   "execution_count": null,
   "metadata": {},
   "outputs": [],
   "source": [
    "class BinaryBackend(xr.backends.BackendEntrypoint):\n",
    "    def open_dataset(\n",
    "        self,\n",
    "        filename_or_obj,\n",
    "        *,\n",
    "        drop_variables=None,\n",
    "        # backend specific parameter\n",
    "        dtype=np.int64,\n",
    "    ):\n",
    "        with open(filename_or_obj) as f:\n",
    "            arr = np.fromfile(f, dtype)\n",
    "\n",
    "        var = xr.Variable(dims=(\"x\"), data=arr)\n",
    "        coords = {\"x\": np.arange(arr.size) * 10}\n",
    "        return xr.Dataset({\"foo\": var}, coords=coords)"
   ]
  },
  {
   "cell_type": "markdown",
   "metadata": {},
   "source": [
    "### It Works! \n",
    "But it may be memory demanding"
   ]
  },
  {
   "cell_type": "code",
   "execution_count": null,
   "metadata": {},
   "outputs": [],
   "source": [
    "arr = xr.open_dataarray(\"foo.bin\", engine=BinaryBackend)\n",
    "arr"
   ]
  },
  {
   "cell_type": "code",
   "execution_count": null,
   "metadata": {},
   "outputs": [],
   "source": [
    "arr = xr.open_dataarray(\"foo_float.bin\", engine=BinaryBackend, dtype=np.float64)\n",
    "arr"
   ]
  },
  {
   "cell_type": "code",
   "execution_count": null,
   "metadata": {},
   "outputs": [],
   "source": [
    "arr.sel(x=slice(0, 100))"
   ]
  }
 ],
 "metadata": {
  "language_info": {
   "codemirror_mode": {
    "name": "ipython",
    "version": 3
   },
   "file_extension": ".py",
   "mimetype": "text/x-python",
   "name": "python",
   "nbconvert_exporter": "python",
   "pygments_lexer": "ipython3"
  }
 },
 "nbformat": 4,
 "nbformat_minor": 4
}
