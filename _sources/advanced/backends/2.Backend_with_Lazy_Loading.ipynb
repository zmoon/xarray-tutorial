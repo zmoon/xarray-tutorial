{
 "cells": [
  {
   "cell_type": "markdown",
   "metadata": {},
   "source": [
    "# Binary data with lazy loading\n",
    "\n",
    "**Author**: Aureliana Barghini ([B-Open](https://www.bopen.eu/))"
   ]
  },
  {
   "cell_type": "markdown",
   "metadata": {},
   "source": [
    "If you want to make your backend effective with big datasets, then you should\n",
    "support lazy loading. <br/>\n",
    "For doing that you need:\n",
    "-  Implement `_raw_indexing_method` for reading blocks form disk<br/><br/>\n",
    "- Implement some glue code to make it work with Xarray:<br/><br/>\n",
    "    - put your `_raw_indexing_method` in a `BackendArray` subclass <br/><br/>\n",
    "    - replace the `numpy.ndarray` inside your **dataset** with your subclass of `BackendArray`\n",
    "    \n",
    "    \n",
    "<br/>"
   ]
  },
  {
   "cell_type": "markdown",
   "metadata": {},
   "source": [
    "## Create sample files"
   ]
  },
  {
   "cell_type": "code",
   "execution_count": null,
   "metadata": {},
   "outputs": [],
   "source": [
    "import os\n",
    "\n",
    "import dask\n",
    "import numpy as np\n",
    "import xarray as xr"
   ]
  },
  {
   "cell_type": "code",
   "execution_count": null,
   "metadata": {},
   "outputs": [],
   "source": [
    "arr = np.arange(30000000, dtype=np.int64)\n",
    "with open(\"foo.bin\", \"w\") as f:\n",
    "    arr.tofile(f)\n",
    "\n",
    "arr = np.arange(30000000, dtype=np.float64)\n",
    "with open(\"foo_float.bin\", \"w\") as f:\n",
    "    arr.tofile(f)"
   ]
  },
  {
   "cell_type": "markdown",
   "metadata": {},
   "source": [
    "## BinaryBackendArray"
   ]
  },
  {
   "cell_type": "markdown",
   "metadata": {},
   "source": [
    "The BackendArray subclass shall implement the following method and attributes:\n",
    "\n",
    "- `_raw_indexing_method` method, supporting **item selection** and **slicing**\n",
    "\n",
    "- `__getitem__` that wraps `_raw_indexing_method` with an xarray helper function `explicit_indexing_adapter` (threadsafe)\n",
    "\n",
    "- `shape` attribute\n",
    "\n",
    "- `dtype` attribute.\n",
    "\n"
   ]
  },
  {
   "cell_type": "code",
   "execution_count": null,
   "metadata": {},
   "outputs": [],
   "source": [
    "class BinaryBackendArray(xr.backends.BackendArray):\n",
    "    def __init__(\n",
    "        self,\n",
    "        filename_or_obj,\n",
    "        shape,\n",
    "        dtype,\n",
    "        lock,\n",
    "    ):\n",
    "        self.filename_or_obj = filename_or_obj\n",
    "        self.shape = shape\n",
    "        self.dtype = dtype\n",
    "        self.lock = lock\n",
    "\n",
    "    def __getitem__(self, key: tuple):\n",
    "        return xr.core.indexing.explicit_indexing_adapter(\n",
    "            key,\n",
    "            self.shape,\n",
    "            xr.core.indexing.IndexingSupport.BASIC,\n",
    "            self._raw_indexing_method,\n",
    "        )\n",
    "\n",
    "    def _raw_indexing_method(self, key: tuple):\n",
    "\n",
    "        key0 = key[0]\n",
    "        size = np.dtype(self.dtype).itemsize\n",
    "\n",
    "        if isinstance(key0, slice):\n",
    "            start = key0.start or 0\n",
    "            stop = key0.stop or self.shape[0]\n",
    "            offset = size * start\n",
    "            count = stop - start\n",
    "        else:\n",
    "            offset = size * key0\n",
    "            count = 1\n",
    "\n",
    "        with self.lock, open(self.filename_or_obj) as f:\n",
    "            arr = np.fromfile(f, np.int64, offset=offset, count=count)\n",
    "\n",
    "        if isinstance(key, int):\n",
    "            arr = arr.squeeze()\n",
    "\n",
    "        return arr"
   ]
  },
  {
   "cell_type": "markdown",
   "metadata": {},
   "source": [
    "## BinaryBackend Entrypoint"
   ]
  },
  {
   "cell_type": "code",
   "execution_count": null,
   "metadata": {},
   "outputs": [],
   "source": [
    "class BinaryBackend(xr.backends.BackendEntrypoint):\n",
    "    def open_dataset(self, filename_or_obj, *, drop_variables=None, dtype=np.int64):\n",
    "        size = np.dtype(dtype).itemsize\n",
    "        shape = os.stat(filename_or_obj).st_size // size\n",
    "\n",
    "        backend_array = BinaryBackendArray(\n",
    "            filename_or_obj=filename_or_obj,\n",
    "            shape=(shape,),\n",
    "            dtype=dtype,\n",
    "            lock=dask.utils.SerializableLock(),\n",
    "        )\n",
    "        data = xr.core.indexing.LazilyIndexedArray(backend_array)\n",
    "\n",
    "        var = xr.Variable(dims=(\"x\"), data=data)\n",
    "        return xr.Dataset({\"foo\": var})"
   ]
  },
  {
   "cell_type": "markdown",
   "metadata": {},
   "source": [
    "\n",
    "## Reduced memory usage with dask"
   ]
  },
  {
   "cell_type": "code",
   "execution_count": null,
   "metadata": {},
   "outputs": [],
   "source": [
    "arr = xr.open_dataarray(\"foo.bin\", engine=BinaryBackend, chunks=10000)\n",
    "arr"
   ]
  },
  {
   "cell_type": "code",
   "execution_count": null,
   "metadata": {},
   "outputs": [],
   "source": [
    "arr.mean()"
   ]
  },
  {
   "cell_type": "code",
   "execution_count": null,
   "metadata": {},
   "outputs": [],
   "source": [
    "arr.sel(x=slice(0, 10))"
   ]
  },
  {
   "cell_type": "code",
   "execution_count": null,
   "metadata": {},
   "outputs": [],
   "source": [
    "arr.sel(x=slice(0, 10)).compute()"
   ]
  },
  {
   "cell_type": "code",
   "execution_count": null,
   "metadata": {},
   "outputs": [],
   "source": [
    "arr.load()"
   ]
  }
 ],
 "metadata": {
  "language_info": {
   "codemirror_mode": {
    "name": "ipython",
    "version": 3
   },
   "file_extension": ".py",
   "mimetype": "text/x-python",
   "name": "python",
   "nbconvert_exporter": "python",
   "pygments_lexer": "ipython3"
  }
 },
 "nbformat": 4,
 "nbformat_minor": 4
}
