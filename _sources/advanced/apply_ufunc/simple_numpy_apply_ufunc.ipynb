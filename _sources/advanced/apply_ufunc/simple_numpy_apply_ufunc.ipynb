{
 "cells": [
  {
   "cell_type": "markdown",
   "id": "7a8ff28a-4be3-469f-8cf4-9297e71cc4ca",
   "metadata": {},
   "source": [
    "<img src=\"https://docs.xarray.dev/en/stable/_static/dataset-diagram-logo.png\" align=\"right\" width=\"30%\">\n",
    "\n",
    "# A gentle introduction\n",
    "\n",
    "`apply_ufunc` is a more advanced wrapper that is designed to apply functions\n",
    "that expect and return NumPy (or other arrays). For example, this would include\n",
    "all of SciPy's API. Since `apply_ufunc` operates on lower-level NumPy or Dask\n",
    "objects, it skips the overhead of using Xarray objects making it a good choice\n",
    "for performance-critical functions. Xarray uses `apply_ufunc` internally\n",
    "to implement much of its API, meaning that it is quite powerful!\n",
    "\n",
    "Learning goals:\n",
    "- Learn that `apply_ufunc` automates aspects of applying computation functions that are designed for pure arrays (like numpy arrays) on xarray objects\n",
    "\n",
    "## Setup"
   ]
  },
  {
   "cell_type": "code",
   "execution_count": null,
   "id": "32335e2d-9f8c-490d-a991-2bcabbdf3d16",
   "metadata": {},
   "outputs": [],
   "source": [
    "import numpy as np\n",
    "import xarray as xr\n",
    "\n",
    "xr.set_options(display_expand_data=False)"
   ]
  },
  {
   "cell_type": "markdown",
   "id": "e6abae80-004a-481f-9b1a-c476de951ef0",
   "metadata": {},
   "source": [
    "Let's load a dataset"
   ]
  },
  {
   "cell_type": "code",
   "execution_count": null,
   "id": "b74da273-e603-442f-9970-ef3eb17a3ad9",
   "metadata": {},
   "outputs": [],
   "source": [
    "ds = xr.tutorial.load_dataset(\"air_temperature\")\n",
    "ds"
   ]
  },
  {
   "cell_type": "markdown",
   "id": "a6b21b09-3ebb-4efb-9c57-44bf587ba92d",
   "metadata": {},
   "source": [
    "## A simple example\n",
    "\n",
    "Simple functions that act independently on each value should work without any\n",
    "additional arguments. \n",
    "\n",
    "Consider the following `squared_error` function"
   ]
  },
  {
   "cell_type": "code",
   "execution_count": null,
   "id": "26800228-97cc-4f35-baf8-a5face577543",
   "metadata": {
    "tags": [
     "raises-exception"
    ]
   },
   "outputs": [],
   "source": [
    "def squared_error(x, y):\n",
    "    return (x - y) ** 2"
   ]
  },
  {
   "cell_type": "markdown",
   "id": "7bee21ef-be9e-4393-82cf-e0fc6fe8d97e",
   "metadata": {},
   "source": [
    "We can apply this manually by extracting the underlying numpy array"
   ]
  },
  {
   "cell_type": "code",
   "execution_count": null,
   "id": "69dfcefd-1720-4315-96e0-eca7cc32a3c6",
   "metadata": {},
   "outputs": [],
   "source": [
    "numpy_result = squared_error(ds.air.data, 1)\n",
    "numpy_result"
   ]
  },
  {
   "cell_type": "markdown",
   "id": "0b001bf4-1e7c-4c34-8ff3-81b18c65cf5d",
   "metadata": {},
   "source": [
    "To convert this result to a DataArray, we could do it manually"
   ]
  },
  {
   "cell_type": "code",
   "execution_count": null,
   "id": "73fc3c08-6015-4f08-97cd-4e431229c9c5",
   "metadata": {},
   "outputs": [],
   "source": [
    "xr.DataArray(data=numpy_result, dims=ds.air.dims, coords=ds.air.coords)"
   ]
  },
  {
   "cell_type": "markdown",
   "id": "110f7456-a52b-4ce9-b779-f9f542a427c4",
   "metadata": {},
   "source": [
    "A shorter version uses [DataArray.copy](https://docs.xarray.dev/en/stable/generated/xarray.DataArray.copy.html)"
   ]
  },
  {
   "cell_type": "code",
   "execution_count": null,
   "id": "ea78fb57-e142-4db5-8834-1889440c5367",
   "metadata": {},
   "outputs": [],
   "source": [
    "ds.air.copy(data=numpy_result)"
   ]
  },
  {
   "cell_type": "markdown",
   "id": "193213d5-5644-4225-8f32-c73a20fa412d",
   "metadata": {},
   "source": [
    "Using `DataArray.copy` works for such simple cases but doesn't generalize that well. For example, consider a function that removed one dimension and added a new dimension.\n",
    "\n",
    "`apply_ufunc` can handle such cases. Here's how to use it with `squared_error`"
   ]
  },
  {
   "cell_type": "code",
   "execution_count": null,
   "id": "f145c8ca-f559-4005-b51c-c59ee7ebaef7",
   "metadata": {},
   "outputs": [],
   "source": [
    "xr.apply_ufunc(squared_error, ds.air, 1)"
   ]
  },
  {
   "cell_type": "markdown",
   "id": "007c45dd-b532-41d0-8a28-c35c7448b6ba",
   "metadata": {},
   "source": [
    "## How does apply_ufunc work?\n",
    "\n",
    "To illustrate how `apply_ufunc` works, let us write a small wrapper function. This will let us examine what data is received and returned from the applied function. \n",
    "\n",
    "```{tip}\n",
    "This trick is very useful for debugging\n",
    "```\n"
   ]
  },
  {
   "cell_type": "code",
   "execution_count": null,
   "id": "05c0fe6d-e553-4c38-9cf7-9b7e6efab9a4",
   "metadata": {},
   "outputs": [],
   "source": [
    "def wrapper(x, y):\n",
    "    print(f\"received x of type {type(x)}, shape {x.shape}\")\n",
    "    print(f\"received y of type {type(y)}\")\n",
    "    return squared_error(x, y)\n",
    "\n",
    "\n",
    "xr.apply_ufunc(wrapper, ds.air, 1)"
   ]
  },
  {
   "cell_type": "markdown",
   "id": "db9bc205-7c0d-4992-bda5-f16486d29361",
   "metadata": {},
   "source": [
    "We see that `wrapper` receives the underlying numpy array (`ds.air.data`), and the integer `1`. \n",
    "\n",
    "Essentially, `apply_ufunc` does the following:\n",
    "1. extracts the underlying array data, \n",
    "2. passes it to the user function, \n",
    "3. receives the returned values, and \n",
    "4. then wraps that back up as an array"
   ]
  },
  {
   "cell_type": "markdown",
   "id": "79f2c642-b814-48e0-a84c-7f1fb0858c53",
   "metadata": {},
   "source": [
    "apply_ufunc easily handles both dataarrays and datasets. \n",
    "\n",
    "When passed a Dataset, apply-ufunc will loop over the data variables and sequentially pass those to `squared_error`. So `squared_error` always receives a numpy array"
   ]
  },
  {
   "cell_type": "code",
   "execution_count": null,
   "id": "8faf9e4d-c5e3-4a41-b866-b6f39df04e10",
   "metadata": {},
   "outputs": [],
   "source": [
    "xr.apply_ufunc(wrapper, ds, 1)"
   ]
  },
  {
   "cell_type": "code",
   "execution_count": null,
   "id": "5b658981-db33-4a46-84cc-8c17db68b1e0",
   "metadata": {},
   "outputs": [],
   "source": [
    "xr.apply_ufunc(squared_error, ds, 1)"
   ]
  },
  {
   "cell_type": "markdown",
   "id": "ac4f4511-2535-4dd8-af2e-085a9f453e9f",
   "metadata": {},
   "source": [
    "## Reductions and core dimensions\n",
    "\n",
    "`squared_error` operated on a per-element basis. How about a reduction like `np.mean`?\n",
    "\n",
    "Such functions involve the concept of \"core dimensions\". One way to think about core dimensions is to consider the smallest dimensionality of data necessary to apply the function.\n",
    "\n",
    "For using more complex operations that consider some array values collectively,\n",
    "it’s important to understand the idea of **core dimensions**. \n",
    "Usually, they correspond to the fundamental dimensions over\n",
    "which an operation is defined, e.g., the summed axis in `np.sum`. A good clue\n",
    "that core dimensions are needed is the presence of an `axis` argument on the\n",
    "corresponding NumPy function.\n",
    "\n",
    "Let's write a function that computes the mean along `time` for a provided xarray object. This function requires one core dimension `time`. For `ds.air` note that `time` is the 0th axis."
   ]
  },
  {
   "cell_type": "code",
   "execution_count": null,
   "id": "84856bf9-e926-4b6f-9c38-ef61b2953610",
   "metadata": {},
   "outputs": [],
   "source": [
    "ds.air.dims"
   ]
  },
  {
   "cell_type": "code",
   "execution_count": null,
   "id": "7b075981-c16c-4f0b-a37d-c2dede010ebc",
   "metadata": {},
   "outputs": [],
   "source": [
    "np.mean(ds.air, axis=ds.air.get_axis_num(\"time\"))"
   ]
  },
  {
   "cell_type": "code",
   "execution_count": null,
   "id": "f2ab71ad-b2ff-4203-a484-0c2d6b2c4be4",
   "metadata": {},
   "outputs": [],
   "source": [
    "np.mean(ds.air.data, axis=0)"
   ]
  },
  {
   "cell_type": "markdown",
   "id": "484bc283-a0a8-40f1-906b-81aaf06a14ec",
   "metadata": {},
   "source": [
    "Let's try to use `apply_ufunc` to replicate `np.mean(ds.air.data, axis=0)`"
   ]
  },
  {
   "cell_type": "code",
   "execution_count": null,
   "id": "9f56f265-a723-4165-a248-12f5ba8c34d5",
   "metadata": {
    "tags": [
     "raises-exception"
    ]
   },
   "outputs": [],
   "source": [
    "xr.apply_ufunc(\n",
    "    # function to apply\n",
    "    np.mean,\n",
    "    # object with data to pass to function\n",
    "    ds,\n",
    "    # keyword arguments to pass to np.mean\n",
    "    kwargs={\"axis\": 0},\n",
    ")"
   ]
  },
  {
   "cell_type": "markdown",
   "id": "f7be1720-b529-444d-852e-a6f63563ac3f",
   "metadata": {},
   "source": [
    "The error here\n",
    "> applied function returned data with unexpected number of dimensions. Received 2 dimension(s) but expected 3 dimensions with names: ('time', 'lat', 'lon')\n",
    "\n",
    "means that while `np.mean` did indeed reduce one dimension, we did not tell `apply_ufunc` that this would happen. That is, we need to specify the core dimensions on the input."
   ]
  },
  {
   "cell_type": "code",
   "execution_count": null,
   "id": "447f79cd-8ee2-416f-9ebe-b1b4317583d0",
   "metadata": {
    "tags": [
     "raises-exception"
    ]
   },
   "outputs": [],
   "source": [
    "xr.apply_ufunc(\n",
    "    np.mean,\n",
    "    ds,\n",
    "    # specify core dimensions as a list of lists\n",
    "    # here 'time' is the core dimension on `ds`\n",
    "    input_core_dims=[[\"time\"]],\n",
    "    kwargs={\"axis\": 0},\n",
    ")"
   ]
  },
  {
   "cell_type": "markdown",
   "id": "534b12aa-8a69-457b-a901-70a2358b0b71",
   "metadata": {},
   "source": [
    "This next error is a little confusing.\n",
    "\n",
    "> size of dimension 'lat' on inputs was unexpectedly changed by applied function from 25 to 53. Only dimensions specified in ``exclude_dims`` with xarray.apply_ufunc are allowed to change size.\n",
    "\n",
    "\n",
    "A good trick here is to pass a little wrapper function to `apply_ufunc` instead and inspect the shapes of data received by the wrapper.\n"
   ]
  },
  {
   "cell_type": "code",
   "execution_count": null,
   "id": "560f3d23-7760-4573-a091-722b8a440fb8",
   "metadata": {
    "tags": [
     "raises-exception"
    ]
   },
   "outputs": [],
   "source": [
    "def wrapper(array, **kwargs):\n",
    "    print(f\"received {type(array)} shape: {array.shape}, kwargs: {kwargs}\")\n",
    "    result = np.mean(array, **kwargs)\n",
    "    print(f\"result.shape: {result.shape}\")\n",
    "    return result\n",
    "\n",
    "\n",
    "xr.apply_ufunc(\n",
    "    wrapper,\n",
    "    ds,\n",
    "    # specify core dimensions as a list of lists\n",
    "    # here 'time' is the core dimension on `ds`\n",
    "    input_core_dims=[[\"time\"]],\n",
    "    kwargs={\"axis\": 0},\n",
    ")"
   ]
  },
  {
   "cell_type": "markdown",
   "id": "e3ba7a3d-5ab4-4b3b-b0d5-1b6ae98e8d7c",
   "metadata": {},
   "source": [
    "Now we see the issue:\n",
    "\n",
    "    received <class 'numpy.ndarray'> shape: (25, 53, 2920), kwargs: {'axis': 0}\n",
    "    result.shape: (53, 2920)\n",
    "    \n",
    "The `time` dimension is of size `2920` and is now the last axis of the array but was initially the first axis"
   ]
  },
  {
   "cell_type": "code",
   "execution_count": null,
   "id": "6f2dd2ec-e036-4fb2-888b-8411e88091dc",
   "metadata": {},
   "outputs": [],
   "source": [
    "ds.air.get_axis_num(\"time\")"
   ]
  },
  {
   "cell_type": "markdown",
   "id": "81fe9fe1-83ff-4d60-bbee-fc11ecd4f73a",
   "metadata": {},
   "source": [
    "This illustrates an important concept: **arrays are transposed so that core dimensions are at the end**. \n",
    "\n",
    "With `apply_ufunc`, core dimensions are recognized by name, and then moved to\n",
    "the last dimension of any input arguments before applying the given function.\n",
    "This means that for functions that accept an `axis` argument, you usually need\n",
    "to set `axis=-1`\n",
    "\n",
    "Such behaviour means that our functions (like `wrapper` or `np.mean`) do not need to know the exact order of dimensions. They can rely on the core dimensions being at the end allowing us to write very general code! \n",
    "\n",
    "We can fix our `apply_ufunc` call by specifying `axis=-1` instead."
   ]
  },
  {
   "cell_type": "code",
   "execution_count": null,
   "id": "6c343d01-cdf6-4e48-a349-606f06c4c251",
   "metadata": {},
   "outputs": [],
   "source": [
    "def wrapper(array, **kwargs):\n",
    "    print(f\"received {type(array)} shape: {array.shape}, kwargs: {kwargs}\")\n",
    "    result = np.mean(array, **kwargs)\n",
    "    print(f\"result.shape: {result.shape}\")\n",
    "    return result\n",
    "\n",
    "\n",
    "xr.apply_ufunc(\n",
    "    wrapper,\n",
    "    ds,\n",
    "    input_core_dims=[[\"time\"]],\n",
    "    kwargs={\"axis\": -1},\n",
    ")"
   ]
  },
  {
   "cell_type": "markdown",
   "id": "f62f8f73-cd7f-45fe-b379-6e9b675d38a0",
   "metadata": {},
   "source": [
    "## Exercise\n",
    "\n",
    "Use `apply_ufunc` to apply `sp.integrate.trapz` along the `time` axis.\n"
   ]
  },
  {
   "cell_type": "code",
   "execution_count": null,
   "id": "7e85abfe-51c3-45be-b47b-957f03a3306b",
   "metadata": {
    "tags": [
     "hide-output",
     "hide-input"
    ]
   },
   "outputs": [],
   "source": [
    "import scipy as sp\n",
    "import scipy.integrate\n",
    "\n",
    "xr.apply_ufunc(scipy.integrate.trapz, ds, input_core_dims=[[\"time\"]], kwargs={\"axis\": -1})"
   ]
  }
 ],
 "metadata": {
  "language_info": {
   "codemirror_mode": {
    "name": "ipython",
    "version": 3
   },
   "file_extension": ".py",
   "mimetype": "text/x-python",
   "name": "python",
   "nbconvert_exporter": "python",
   "pygments_lexer": "ipython3"
  }
 },
 "nbformat": 4,
 "nbformat_minor": 5
}
