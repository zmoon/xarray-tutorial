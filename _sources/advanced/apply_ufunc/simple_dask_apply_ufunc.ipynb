{
 "cells": [
  {
   "cell_type": "markdown",
   "id": "7a8ff28a-4be3-469f-8cf4-9297e71cc4ca",
   "metadata": {},
   "source": [
    "<img src=\"https://docs.xarray.dev/en/stable/_static/dataset-diagram-logo.png\" align=\"right\" width=\"30%\">\n",
    "\n",
    "# Handling dask arrays\n",
    "\n",
    "`apply_ufunc` is a more advanced wrapper that is designed to apply functions\n",
    "that expect and return NumPy (or other arrays). For example, this would include\n",
    "all of SciPy's API. Since `apply_ufunc` operates on lower-level NumPy or Dask\n",
    "objects, it skips the overhead of using Xarray objects making it a good choice\n",
    "for performance-critical functions.\n",
    "\n",
    "`apply_ufunc` can be a little tricky to get right since it operates at a lower\n",
    "level than `map_blocks`. On the other hand, Xarray uses `apply_ufunc` internally\n",
    "to implement much of its API, meaning that it is quite powerful!\n",
    "\n",
    "Learning goals:\n",
    "- Learn that `apply_ufunc` automates aspects of applying computation functions that are designed for pure arrays (like numpy arrays) on xarray objects\n",
    "\n",
    "## Setup"
   ]
  },
  {
   "cell_type": "code",
   "execution_count": null,
   "id": "32335e2d-9f8c-490d-a991-2bcabbdf3d16",
   "metadata": {},
   "outputs": [],
   "source": [
    "import dask\n",
    "import numpy as np\n",
    "import xarray as xr"
   ]
  },
  {
   "cell_type": "markdown",
   "id": "e511efdf-1f39-4dcf-a111-660eeca2eb8c",
   "metadata": {},
   "source": [
    "First lets set up a `LocalCluster` using [dask.distributed](https://distributed.dask.org/).\n",
    "\n",
    "You can use any kind of dask cluster. This step is completely independent of\n",
    "xarray. While not strictly necessary, the dashboard provides a nice learning\n",
    "tool.\n"
   ]
  },
  {
   "cell_type": "code",
   "execution_count": null,
   "id": "ba5df0bd-4fa2-43b2-942c-fb6ce2a55d6c",
   "metadata": {},
   "outputs": [],
   "source": [
    "from dask.distributed import Client\n",
    "\n",
    "client = Client()\n",
    "client"
   ]
  },
  {
   "cell_type": "markdown",
   "id": "9aa9663b-028a-4639-be90-5576f88d1bfa",
   "metadata": {},
   "source": [
    "<p>&#128070</p> Click the Dashboard link above. Or click the \"Search\" button in the dashboard.\n",
    "\n",
    "Let's test that the dashboard is working..\n"
   ]
  },
  {
   "cell_type": "code",
   "execution_count": null,
   "id": "4419e2a6-9ff7-4d33-b6da-243210c34a37",
   "metadata": {},
   "outputs": [],
   "source": [
    "import dask.array\n",
    "\n",
    "dask.array.ones((1000, 4), chunks=(2, 1)).compute()  # should see activity in dashboard"
   ]
  },
  {
   "cell_type": "markdown",
   "id": "e6abae80-004a-481f-9b1a-c476de951ef0",
   "metadata": {},
   "source": [
    "Let's open a dataset. We specify `chunks` so that we create a dask arrays for the DataArrays"
   ]
  },
  {
   "cell_type": "code",
   "execution_count": null,
   "id": "b74da273-e603-442f-9970-ef3eb17a3ad9",
   "metadata": {},
   "outputs": [],
   "source": [
    "ds = xr.tutorial.open_dataset(\"air_temperature\", chunks={\"time\": 100})\n",
    "ds"
   ]
  },
  {
   "cell_type": "markdown",
   "id": "a6b21b09-3ebb-4efb-9c57-44bf587ba92d",
   "metadata": {},
   "source": [
    "## A simple example\n",
    "\n",
    "All the concepts from applying numpy functions carry over.\n",
    "\n",
    "However the handling of dask arrays needs to be explicitly activated."
   ]
  },
  {
   "cell_type": "code",
   "execution_count": null,
   "id": "26800228-97cc-4f35-baf8-a5face577543",
   "metadata": {
    "tags": [
     "raises-exception"
    ]
   },
   "outputs": [],
   "source": [
    "# Expect an error here\n",
    "def squared_error(x, y):\n",
    "    return (x - y) ** 2\n",
    "\n",
    "\n",
    "xr.apply_ufunc(squared_error, ds.air, 1)"
   ]
  },
  {
   "cell_type": "markdown",
   "id": "28f4f80d-37cf-416a-a32d-9186c8df5f2d",
   "metadata": {},
   "source": [
    "There are two options for the `dask` kwarg.\n",
    "\n",
    "1. `dask=\"allowed\"` Dask arrays are passed to the user function. This is a good\n",
    "   choice if your function can handle dask arrays and won't call compute\n",
    "   explicitly.\n",
    "2. `dask=\"parallelized\"`. This applies the user function over blocks of the dask\n",
    "   array using `dask.array.blockwise`. This is useful when your function cannot\n",
    "   handle dask arrays natively (e.g. scipy API).\n",
    "\n",
    "Since `squared_error` can handle dask arrays without computing them, we specify\n",
    "`dask=\"allowed\"`.\n"
   ]
  },
  {
   "cell_type": "code",
   "execution_count": null,
   "id": "4e0806da-b6ea-4618-8394-b2e888f4c556",
   "metadata": {},
   "outputs": [],
   "source": [
    "sqer = xr.apply_ufunc(\n",
    "    squared_error,\n",
    "    ds.air,\n",
    "    1,\n",
    "    dask=\"allowed\",\n",
    ")\n",
    "sqer  # dask-backed DataArray! with nice metadata!"
   ]
  },
  {
   "cell_type": "markdown",
   "id": "c1418c06-e1f8-4db8-bdf5-a4e23f6524e1",
   "metadata": {},
   "source": [
    "Let's again use the wrapper trick to understand what `squared_error` receives.\n",
    "\n",
    "We see that it receives a dask array."
   ]
  },
  {
   "cell_type": "code",
   "execution_count": null,
   "id": "7d9a5eb4-c6e9-445f-87bb-5bcaa653439f",
   "metadata": {},
   "outputs": [],
   "source": [
    "def wrapper(x, y):\n",
    "    print(f\"received x of type {type(x)}, shape {x.shape}\")\n",
    "    print(f\"received y of type {type(y)}\")\n",
    "    return squared_error(x, y)\n",
    "\n",
    "\n",
    "xr.apply_ufunc(wrapper, ds.air, 1, dask=\"allowed\")"
   ]
  },
  {
   "cell_type": "markdown",
   "id": "ce1b0d1c-8bf3-4ddb-aa5f-e2ca70415ad6",
   "metadata": {},
   "source": [
    "## Reductions and core dimensions\n",
    "\n",
    "`squared_error` operated on a per-element basis. How about a reduction like `np.mean`?\n",
    "\n",
    "Such functions involve the concept of \"core dimensions\". One way to think about core dimensions is to consider the smallest dimensionality of data necessary to apply the function.\n",
    "\n",
    "For using more complex operations that consider some array values collectively,\n",
    "it’s important to understand the idea of **core dimensions**. \n",
    "Usually, they correspond to the fundamental dimensions over\n",
    "which an operation is defined, e.g., the summed axis in `np.sum`. A good clue\n",
    "that core dimensions are needed is the presence of an `axis` argument on the\n",
    "corresponding NumPy function.\n",
    "\n",
    "With `apply_ufunc`, core dimensions are recognized by name, and then moved to\n",
    "the last dimension of any input arguments before applying the given function.\n",
    "This means that for functions that accept an `axis` argument, you usually need\n",
    "to set `axis=-1`\n",
    "\n",
    "Let's use `dask.array.mean` as an example of a function that can handle dask\n",
    "arrays and uses an `axis` kwarg\n"
   ]
  },
  {
   "cell_type": "code",
   "execution_count": null,
   "id": "447f79cd-8ee2-416f-9ebe-b1b4317583d0",
   "metadata": {},
   "outputs": [],
   "source": [
    "def time_mean(da):\n",
    "    return xr.apply_ufunc(\n",
    "        dask.array.mean,\n",
    "        da,\n",
    "        input_core_dims=[[\"time\"]],\n",
    "        dask=\"allowed\",\n",
    "        kwargs={\"axis\": -1},  # core dimensions are moved to the end\n",
    "    )\n",
    "\n",
    "\n",
    "time_mean(ds.air)"
   ]
  },
  {
   "cell_type": "markdown",
   "id": "7952ceb1-8402-41d1-8813-31228c3e9ae6",
   "metadata": {},
   "source": [
    "Again, this identical to the built-in `mean`"
   ]
  },
  {
   "cell_type": "code",
   "execution_count": null,
   "id": "6c343d01-cdf6-4e48-a349-606f06c4c251",
   "metadata": {},
   "outputs": [],
   "source": [
    "ds.air.mean(\"time\").identical(time_mean(ds.air))"
   ]
  },
  {
   "cell_type": "markdown",
   "id": "8abf7aa7-e1e6-4935-9d59-58d4f587135c",
   "metadata": {},
   "source": [
    "## Automatically parallelizing dask-unaware functions\n",
    "\n",
    "A very useful `apply_ufunc` feature is the ability to apply arbitrary functions\n",
    "in parallel to each block. This ability can be activated using\n",
    "`dask=\"parallelized\"`. Again xarray needs a lot of extra metadata, so depending\n",
    "on the function, extra arguments such as `output_dtypes` and `output_sizes` may\n",
    "be necessary.\n",
    "\n",
    "We will use `scipy.integrate.trapz` as an example of a function that cannot\n",
    "handle dask arrays and requires a core dimension. If we call `trapz` with a dask\n",
    "array, we get a numpy array back that is, the values have been eagerly computed.\n",
    "This is undesirable behaviour\n"
   ]
  },
  {
   "cell_type": "code",
   "execution_count": null,
   "id": "43a04e83-c061-4e14-80d9-b73d6c36981a",
   "metadata": {},
   "outputs": [],
   "source": [
    "import scipy as sp\n",
    "import scipy.integrate\n",
    "\n",
    "sp.integrate.trapz(ds.air.data, axis=ds.air.get_axis_num(\"lon\"))  # does NOT return a dask array"
   ]
  },
  {
   "cell_type": "code",
   "execution_count": null,
   "id": "8faef8dd-13b0-46c6-a19a-08e5e095fd4c",
   "metadata": {},
   "outputs": [],
   "source": [
    "xr.apply_ufunc(\n",
    "    sp.integrate.trapz,\n",
    "    ds,\n",
    "    input_core_dims=[[\"lon\"]],\n",
    "    kwargs={\"axis\": -1},\n",
    "    dask=\"parallelized\",\n",
    ")"
   ]
  },
  {
   "cell_type": "code",
   "execution_count": null,
   "id": "6b375c8a-b7ef-47a6-b007-1fc2f34a2cf5",
   "metadata": {},
   "outputs": [],
   "source": [
    "client.close()"
   ]
  },
  {
   "cell_type": "markdown",
   "id": "71492531-4eda-4c47-86e5-dad033c22751",
   "metadata": {},
   "source": [
    "## More\n",
    "\n",
    "1. https://docs.xarray.dev/en/stable/examples/apply_ufunc_vectorize_1d.html\n",
    "2. https://docs.dask.org/en/latest/array-best-practices.html\n"
   ]
  }
 ],
 "metadata": {
  "language_info": {
   "codemirror_mode": {
    "name": "ipython",
    "version": 3
   },
   "file_extension": ".py",
   "mimetype": "text/x-python",
   "name": "python",
   "nbconvert_exporter": "python",
   "pygments_lexer": "ipython3"
  }
 },
 "nbformat": 4,
 "nbformat_minor": 5
}
