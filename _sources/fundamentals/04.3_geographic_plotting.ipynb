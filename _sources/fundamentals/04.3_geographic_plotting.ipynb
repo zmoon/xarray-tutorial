{
 "cells": [
  {
   "cell_type": "markdown",
   "id": "ed242a29-6be7-4574-84c1-f87095b07dec",
   "metadata": {},
   "source": [
    "<img src=\"https://docs.xarray.dev/en/stable/_static/dataset-diagram-logo.png\" align=\"right\" width=\"30%\">\n",
    "\n",
    "# Geography with Cartopy\n",
    "\n",
    "Since xarray's default plotting functionality builds on matplotlib, we can\n",
    "seamlessly use cartopy to make nice maps:\n",
    "\n",
    "1. Specify a `projection` for the plot when creating a new figure `fig` with\n",
    "   axis `axis`.\n",
    "2. Explicitly ask xarray to plot to axis `axis` by passing the kwarg `ax=axis`.\n",
    "3. Specify the projection of the data using `transform` (`PlateCarree` here) in\n",
    "   `.plot()`.\n"
   ]
  },
  {
   "cell_type": "code",
   "execution_count": null,
   "id": "4bc84163-5c34-49c5-82a9-0b20ef99fc53",
   "metadata": {},
   "outputs": [],
   "source": [
    "import cartopy.crs as ccrs\n",
    "import matplotlib as mpl\n",
    "import matplotlib.pyplot as plt\n",
    "import xarray as xr\n",
    "\n",
    "%config InlineBackend.figure_format='retina'"
   ]
  },
  {
   "cell_type": "code",
   "execution_count": null,
   "id": "a1949ff8-4d7d-4f7b-ac78-0dbc24a8295c",
   "metadata": {},
   "outputs": [],
   "source": [
    "ds = xr.tutorial.open_dataset(\"air_temperature_gradient\")\n",
    "monthly_means = ds.groupby(\"time.month\").mean()\n",
    "# xarray's groupby reductions drop attributes. Let's assign them back so we get nice labels.\n",
    "monthly_means.Tair.attrs = ds.Tair.attrs"
   ]
  },
  {
   "cell_type": "markdown",
   "id": "adf7f680-8a57-4162-a0cf-f8d03e9581b9",
   "metadata": {},
   "source": [
    "## Basic plot"
   ]
  },
  {
   "cell_type": "code",
   "execution_count": null,
   "id": "df6fba2d-8997-4476-9c5a-59d994697802",
   "metadata": {},
   "outputs": [],
   "source": [
    "fig, axis = plt.subplots(1, 1, subplot_kw=dict(projection=ccrs.Orthographic(-90, 30)))\n",
    "\n",
    "ds.Tair.isel(time=1).plot(\n",
    "    ax=axis,\n",
    "    transform=ccrs.PlateCarree(),  # this is important!\n",
    "    # usual xarray stuff\n",
    "    cbar_kwargs={\"orientation\": \"horizontal\", \"shrink\": 0.7},\n",
    "    robust=True,\n",
    ")\n",
    "axis.coastlines()  # cartopy function"
   ]
  },
  {
   "cell_type": "markdown",
   "id": "feaee5df-978d-469e-9a20-aa38240b8a3b",
   "metadata": {},
   "source": [
    "## Faceting maps\n",
    "\n",
    "We can make faceted maps. Since `FacetGrid` creates the axes it plots to, we\n",
    "need to pass the `projection` kwarg in `subplot_kws`. This makes sure that the\n",
    "subplots are set up properly for cartopy.\n"
   ]
  },
  {
   "cell_type": "code",
   "execution_count": null,
   "id": "177448e6-839b-40b2-9e11-8ef32139ec7c",
   "metadata": {},
   "outputs": [],
   "source": [
    "fg = monthly_means.Tair.isel(month=[1, 2, 3]).plot(\n",
    "    col=\"month\",\n",
    "    transform=ccrs.PlateCarree(),  # remember to provide this!\n",
    "    subplot_kws={\"projection\": ccrs.LambertConformal(central_longitude=-95, central_latitude=45)},\n",
    "    cbar_kwargs={\"orientation\": \"horizontal\", \"shrink\": 0.8, \"aspect\": 40},\n",
    "    robust=True,\n",
    ")\n",
    "\n",
    "# lets add a coastline to each axis\n",
    "# great reason to use FacetGrid.map\n",
    "fg.map(lambda: plt.gca().coastlines())"
   ]
  }
 ],
 "metadata": {
  "language_info": {
   "codemirror_mode": {
    "name": "ipython",
    "version": 3
   },
   "file_extension": ".py",
   "mimetype": "text/x-python",
   "name": "python",
   "nbconvert_exporter": "python",
   "pygments_lexer": "ipython3"
  }
 },
 "nbformat": 4,
 "nbformat_minor": 5
}
