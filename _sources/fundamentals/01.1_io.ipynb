{
 "cells": [
  {
   "cell_type": "markdown",
   "id": "24b5bda9-4108-46b0-a3c3-4cf8e041ffa7",
   "metadata": {},
   "source": [
    "# Reading and writing files\n",
    "\n",
    "One of Xarray's most widely used features is its ability to [read from and write\n",
    "to a variety of data formats](https://docs.xarray.dev/en/stable/user-guide/io.html). \n",
    "For example, Xarray can read the following formats using `open_dataset`/`open_mfdataset`:\n",
    "\n",
    "- [NetCDF](https://www.unidata.ucar.edu/software/netcdf/)\n",
    "- [Zarr](https://zarr.readthedocs.io/en/stable/)\n",
    "\n",
    "Support for additional formats is possible using external packages\n",
    "- [GRIB](https://en.wikipedia.org/wiki/GRIB) using the [cfgrib](https://github.com/ecmwf/cfgrib) package\n",
    "- [GeoTIFF](https://gdal.org/drivers/raster/gtiff.html) /\n",
    "  [GDAL rasters](https://svn.osgeo.org/gdal/tags/gdal_1_2_5/frmts/formats_list.html)\n",
    "  using the [rioxarray package](https://corteva.github.io/rioxarray/stable/)\n",
    "\n",
    "<img src=\"https://www.unidata.ucar.edu/images/logos/netcdf-400x400.png\" align=\"right\" width=\"20%\">\n",
    "\n",
    "## NetCDF\n",
    "\n",
    "The recommended way to store xarray data structures is NetCDF, which is a binary\n",
    "file format for self-described datasets that originated in the geosciences.\n",
    "Xarray is based on the netCDF data model, so netCDF files on disk directly\n",
    "correspond to Dataset objects.\n",
    "\n",
    "Xarray reads and writes to NetCDF files using the `open_dataset` /\n",
    "`open_dataarray` functions and the `to_netcdf` method.\n",
    "\n",
    "Let's first create some datasets and write them to disk using `to_netcdf`, which\n",
    "takes the path we want to write to:\n"
   ]
  },
  {
   "cell_type": "code",
   "execution_count": null,
   "id": "6dae3b9a-9ba9-4a64-87b1-78824e0e5a63",
   "metadata": {},
   "outputs": [],
   "source": [
    "import numpy as np\n",
    "import xarray as xr\n",
    "\n",
    "# Ensure random arrays are the same each time\n",
    "np.random.seed(0)"
   ]
  },
  {
   "cell_type": "markdown",
   "id": "e4bc6a8b",
   "metadata": {},
   "source": [
    "The constructor of `Dataset` takes three parameters:\n",
    "\n",
    "- `data_vars`: dict-like mapping names to values. It has the format described in\n",
    "  [coordinates](#coordinates) except we need to use either `DataArray` objects\n",
    "  or the tuple syntax since we have to provide dimensions\n",
    "- `coords`: same as for `DataArray`\n",
    "- `attrs`: same as for `Dataset`"
   ]
  },
  {
   "cell_type": "code",
   "execution_count": null,
   "id": "d679229a-a159-4783-81f5-dcaaf0bc74ae",
   "metadata": {},
   "outputs": [],
   "source": [
    "ds1 = xr.Dataset(\n",
    "    data_vars={\n",
    "        \"a\": ((\"x\", \"y\"), np.random.randn(4, 2)),\n",
    "        \"b\": ((\"z\", \"x\"), np.random.randn(6, 4)),\n",
    "    },\n",
    "    coords={\n",
    "        \"x\": np.arange(4),\n",
    "        \"y\": np.arange(-2, 0),\n",
    "        \"z\": np.arange(-3, 3),\n",
    "    },\n",
    ")\n",
    "ds2 = xr.Dataset(\n",
    "    data_vars={\n",
    "        \"a\": ((\"x\", \"y\"), np.random.randn(7, 3)),\n",
    "        \"b\": ((\"z\", \"x\"), np.random.randn(2, 7)),\n",
    "    },\n",
    "    coords={\n",
    "        \"x\": np.arange(6, 13),\n",
    "        \"y\": np.arange(3),\n",
    "        \"z\": np.arange(3, 5),\n",
    "    },\n",
    ")\n",
    "\n",
    "# write datasets\n",
    "ds1.to_netcdf(\"ds1.nc\")\n",
    "ds2.to_netcdf(\"ds2.nc\")\n",
    "\n",
    "# write dataarray\n",
    "ds1.a.to_netcdf(\"da1.nc\")"
   ]
  },
  {
   "cell_type": "markdown",
   "id": "d49af8bc-49e4-41a4-b4eb-1ad537ff1445",
   "metadata": {},
   "source": [
    "Reading those files is just as simple:\n"
   ]
  },
  {
   "cell_type": "code",
   "execution_count": null,
   "id": "4c762492-79f6-42bc-89f9-5bcf09b49141",
   "metadata": {},
   "outputs": [],
   "source": [
    "xr.open_dataset(\"ds1.nc\")"
   ]
  },
  {
   "cell_type": "code",
   "execution_count": null,
   "id": "083c1fc9-fe16-4662-99c1-e29e36dcfc27",
   "metadata": {},
   "outputs": [],
   "source": [
    "xr.open_dataarray(\"da1.nc\")"
   ]
  },
  {
   "cell_type": "markdown",
   "id": "c1de72cd-d5f6-4f5b-a12c-bb77beb1a55e",
   "metadata": {},
   "source": [
    "<img src=\"https://zarr.readthedocs.io/en/stable/_static/logo1.png\" align=\"right\" width=\"20%\">\n",
    "\n",
    "\n",
    "## Zarr\n",
    "\n",
    "[Zarr](https://zarr.readthedocs.io/en/stable/) is a Python package and data\n",
    "format providing an implementation of chunked, compressed, N-dimensional arrays.\n",
    "Zarr has the ability to store arrays in a range of ways, including in memory, in\n",
    "files, and in cloud-based object storage such as Amazon S3 and Google Cloud\n",
    "Storage. Xarray’s Zarr backend allows xarray to leverage these capabilities.\n",
    "\n",
    "Zarr files can be written with:\n"
   ]
  },
  {
   "cell_type": "code",
   "execution_count": null,
   "id": "f0ff7fc0-edff-4d6f-81d2-a4b3d863c4db",
   "metadata": {},
   "outputs": [],
   "source": [
    "ds1.to_zarr(\"ds1.zarr\", mode=\"w\")"
   ]
  },
  {
   "cell_type": "markdown",
   "id": "0aa2e618-b257-40a0-ad81-04bb5d207224",
   "metadata": {},
   "source": [
    "We can then read the created file with:\n"
   ]
  },
  {
   "cell_type": "code",
   "execution_count": null,
   "id": "b487f695-c1d3-4782-b00e-49554eb24ddc",
   "metadata": {},
   "outputs": [],
   "source": [
    "xr.open_zarr(\"ds1.zarr\", chunks=None)"
   ]
  },
  {
   "cell_type": "markdown",
   "id": "5f0dd3e1-a33b-4c39-be24-9cbdce8ab704",
   "metadata": {},
   "source": [
    "setting the `chunks` parameter to `None` avoids `dask` (more on that in a later\n",
    "session)\n"
   ]
  },
  {
   "cell_type": "markdown",
   "id": "6cbebf89-7a64-4af6-af7f-04c906bfbeac",
   "metadata": {},
   "source": [
    "**tip:** You can write to any diictionary-like (`MutableMapping`) interface:"
   ]
  },
  {
   "cell_type": "code",
   "execution_count": null,
   "id": "d163a407-3320-408c-a926-1aca07d0af70",
   "metadata": {},
   "outputs": [],
   "source": [
    "mystore = {}\n",
    "\n",
    "ds1.to_zarr(store=mystore)"
   ]
  },
  {
   "cell_type": "markdown",
   "id": "5b2acbba-ba4f-4819-8600-f89a6109e6df",
   "metadata": {},
   "source": [
    "## Raster files using rioxarray\n",
    "\n",
    "[rioxarray](https://corteva.github.io/rioxarray/) is an *Xarray extension* that allows reading and writing a wide variety of geospatial image formats compatible with Geographic Information Systems (GIS), for example GeoTIFF.\n",
    "\n",
    "If rioxarray is installed your environment it will be automatically detected and give you access to the `.rio` accessor:"
   ]
  },
  {
   "cell_type": "code",
   "execution_count": null,
   "id": "648d3d02-b322-468f-8bd5-41eaf3d2bc36",
   "metadata": {},
   "outputs": [],
   "source": [
    "da = xr.DataArray(\n",
    "    data=ds1.a.data,\n",
    "    coords={\n",
    "        \"y\": np.linspace(47.5, 47.8, 4),\n",
    "        \"x\": np.linspace(-122.9, -122.7, 2),\n",
    "    },\n",
    ")\n",
    "\n",
    "# Add Geospatial Coordinate Reference https://epsg.io/4326\n",
    "# this is stored as a 'spatial_ref' coordinate\n",
    "da.rio.write_crs(\"epsg:4326\", inplace=True)\n",
    "da"
   ]
  },
  {
   "cell_type": "code",
   "execution_count": null,
   "id": "87b540d6-33fd-4956-9a03-4d812a62f50e",
   "metadata": {},
   "outputs": [],
   "source": [
    "da.rio.to_raster('ds1_a.tiff')"
   ]
  },
  {
   "cell_type": "markdown",
   "id": "d83ec937-8e01-488d-873b-16dd83edcd62",
   "metadata": {},
   "source": [
    "NOTE: you can now load this file into GIS tools like [QGIS](https://www.qgis.org)! Or open back into Xarray:"
   ]
  },
  {
   "cell_type": "code",
   "execution_count": null,
   "id": "81c1881c-7c7f-48c6-8add-63886372357a",
   "metadata": {},
   "outputs": [],
   "source": [
    "DA = xr.open_dataarray('ds1_a.tiff', engine='rasterio')\n",
    "DA.rio.crs"
   ]
  }
 ],
 "metadata": {
  "language_info": {
   "codemirror_mode": {
    "name": "ipython",
    "version": 3
   },
   "file_extension": ".py",
   "mimetype": "text/x-python",
   "name": "python",
   "nbconvert_exporter": "python",
   "pygments_lexer": "ipython3"
  },
  "vscode": {
   "interpreter": {
    "hash": "31f2aee4e71d21fbe5cf8b01ff0e069b9275f58929596ceb00d14d90e3e16cd6"
   }
  }
 },
 "nbformat": 4,
 "nbformat_minor": 5
}
