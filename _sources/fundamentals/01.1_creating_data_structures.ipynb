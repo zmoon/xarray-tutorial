{
 "cells": [
  {
   "cell_type": "markdown",
   "id": "17d7dc20-40bc-4597-84f1-6284f5ebec99",
   "metadata": {},
   "source": [
    "<img src=\"https://docs.xarray.dev/en/stable/_static/dataset-diagram-logo.png\" align=\"right\" width=\"30%\">\n",
    "\n",
    "# Creating Data Structures"
   ]
  },
  {
   "cell_type": "code",
   "execution_count": null,
   "id": "653fb538-39d0-4f82-9e04-054dc7530c67",
   "metadata": {},
   "outputs": [],
   "source": [
    "import numpy as np\n",
    "import pandas as pd\n",
    "import xarray as xr\n",
    "\n",
    "xr.set_options(display_expand_data=False)\n",
    "\n",
    "rng = np.random.default_rng(seed=0)  # we'll use this later"
   ]
  },
  {
   "cell_type": "markdown",
   "id": "d712b4d3-63eb-4c69-9f1a-81d0cde1a099",
   "metadata": {},
   "source": [
    "In the last lecture, we looked at the following example Dataset. In most cases Xarray Datasets are created by reading a file. We'll address this in the next lecture. Here we'll learn how to create Xarray objects from scratch"
   ]
  },
  {
   "cell_type": "code",
   "execution_count": null,
   "id": "68d0f1b0-eb1f-4579-b6d6-fb2a67a3bea3",
   "metadata": {},
   "outputs": [],
   "source": [
    "ds = xr.tutorial.load_dataset(\"air_temperature\")\n",
    "ds"
   ]
  },
  {
   "cell_type": "markdown",
   "id": "7819aedb-c6e9-4c5c-9fff-e0c93445d957",
   "metadata": {},
   "source": [
    "## DataArray\n",
    "\n",
    "The `DataArray` class is used to attach a name, dimension names, labels, and\n",
    "attributes to an array.\n",
    "\n",
    "Our goal will be to recreate the `ds.air` DataArray starting with the underlying numpy data"
   ]
  },
  {
   "cell_type": "code",
   "execution_count": null,
   "id": "20e7c298-837b-40cf-9e82-600d69c62d5f",
   "metadata": {},
   "outputs": [],
   "source": [
    "ds.air"
   ]
  },
  {
   "cell_type": "code",
   "execution_count": null,
   "id": "8cd31213-7af2-4ce6-9621-05ee504d7499",
   "metadata": {},
   "outputs": [],
   "source": [
    "array = ds.air.data"
   ]
  },
  {
   "cell_type": "markdown",
   "id": "7a79c73f-a3e3-419b-bfcb-bb8351ab5f50",
   "metadata": {},
   "source": [
    "We do this using the [DataArray](https://docs.xarray.dev/en/stable/generated/xarray.DataArray.html) _constructor_."
   ]
  },
  {
   "cell_type": "code",
   "execution_count": null,
   "id": "3410909e-0dd6-4ef4-acb4-2e40f47d2733",
   "metadata": {},
   "outputs": [],
   "source": [
    "xr.DataArray(array)"
   ]
  },
  {
   "cell_type": "markdown",
   "id": "6b72b5d4-8929-43ce-af73-f0ef31bd0cc9",
   "metadata": {},
   "source": [
    "This works. Notice that the default dimension names are not so useful: `dim_0`, `dim_1`, `dim_2`\n",
    "\n",
    "\n",
    "### Dimension Names\n",
    "\n",
    "We can change this by specifying dimension names in the appropriate order using the `dims` kwarg "
   ]
  },
  {
   "cell_type": "code",
   "execution_count": null,
   "id": "b527e34d-f830-4046-af1b-e2f752309bc9",
   "metadata": {},
   "outputs": [],
   "source": [
    "xr.DataArray(array, dims=(\"time\", \"lat\", \"lon\"))"
   ]
  },
  {
   "cell_type": "markdown",
   "id": "58dea713-1262-4b95-961f-b0aad08f4953",
   "metadata": {},
   "source": [
    "Much better! But notice we have no entries under \"Coordinates\".\n",
    "\n",
    "### Coordinates\n",
    "\n",
    "While associating names with dimensions (or axes) of an array is quite useful, attaching coordinate labels to DataArrays makes a lot of analysis quite convenient.\n",
    "\n",
    "First we'll simply add values for `lon` using the `coords` kwarg. For this datasets, longitudes are regularly spaced at 2.5° intervals between 200°E and 330°E.\n",
    "\n",
    "`coords` takes a dictionary that maps the name of a dimension to one of\n",
    "- another `DataArray` object\n",
    "- a tuple of the form `(dims, data, attrs)` where `attrs` is optional. This is\n",
    "  roughly equivalent to creating a new `DataArray` object with\n",
    "  `DataArray(dims=dims, data=data, attrs=attrs)`\n",
    "- a `numpy` array (or anything that can be coerced to one using `numpy.array`).\n",
    "\n",
    "We'll start with the last one"
   ]
  },
  {
   "cell_type": "code",
   "execution_count": null,
   "id": "042485be-ec39-4c1a-b333-66aa72d0ebe8",
   "metadata": {},
   "outputs": [],
   "source": [
    "lon_values = np.arange(200, 331, 2.5)\n",
    "xr.DataArray(array, dims=(\"time\", \"lat\", \"lon\"), coords={\"lon\": lon_values})"
   ]
  },
  {
   "cell_type": "markdown",
   "id": "e7e1c382-cc00-4c27-a009-2620cd024389",
   "metadata": {},
   "source": [
    "Assigning a plain numpy array is equivalent to creating a DataArray with those values and the same dimension  name"
   ]
  },
  {
   "cell_type": "code",
   "execution_count": null,
   "id": "6cccefd5-b48a-4030-bd20-35a3df9ee6f6",
   "metadata": {},
   "outputs": [],
   "source": [
    "lon_da = xr.DataArray(lon_values, dims=\"lon\")\n",
    "da = xr.DataArray(array, dims=(\"time\", \"lat\", \"lon\"), coords={\"lon\": lon_da})\n",
    "da"
   ]
  },
  {
   "cell_type": "markdown",
   "id": "7cfd14f3-a86d-4e31-b6ce-4aaca3044c82",
   "metadata": {},
   "source": [
    "We can also assign coordinates after a DataArray has been created."
   ]
  },
  {
   "cell_type": "code",
   "execution_count": null,
   "id": "41ccd214-ed80-44bf-91c7-53a99677e474",
   "metadata": {},
   "outputs": [],
   "source": [
    "da.coords[\"lat\"] = np.arange(75, 14.9, -2.5)\n",
    "da"
   ]
  },
  {
   "cell_type": "markdown",
   "id": "1561da32-379f-4fe9-bd0a-a3b9abe65e5f",
   "metadata": {},
   "source": [
    "### Attributes \n",
    "\n",
    "Arbitrary attributes can be assigned using the `.attrs` property"
   ]
  },
  {
   "cell_type": "code",
   "execution_count": null,
   "id": "ebbcc6b1-7e60-497c-9a5c-e13953b81b5d",
   "metadata": {},
   "outputs": [],
   "source": [
    "da.attrs[\"attribute\"] = \"hello\"\n",
    "da"
   ]
  },
  {
   "cell_type": "markdown",
   "id": "47f25031-f631-4643-b138-9040bba0fdb6",
   "metadata": {},
   "source": [
    "or specified in the constructor"
   ]
  },
  {
   "cell_type": "code",
   "execution_count": null,
   "id": "46639869-9e7e-44f5-8f77-8fbc38808a83",
   "metadata": {},
   "outputs": [],
   "source": [
    "da2 = xr.DataArray(\n",
    "    array, dims=(\"time\", \"lat\", \"lon\"), coords={\"lon\": lon_da}, attrs={\"attribute\": \"hello\"}\n",
    ")\n",
    "da2"
   ]
  },
  {
   "cell_type": "markdown",
   "id": "1544c70a-0172-46ec-bdaa-6acb357e5fb7",
   "metadata": {},
   "source": [
    "### Non-dimension coordinates\n",
    "\n",
    "Sometimes we want to attach coordinate variables along an existing dimension. Notice that \n",
    "1. `itime` is not bolded and \n",
    "2. has a name \"time\" that is different from the dimension name \"time\"\n",
    "\n",
    "`itime` is an example of a non-dimension coordinate variable i.e. it is a coordinate variable that does not match a dimension name. Here we demonstrate the \"tuple\" form of assigninment:  `(dims, data, attrs)`"
   ]
  },
  {
   "cell_type": "code",
   "execution_count": null,
   "id": "78227316-74fe-427a-8e1d-2a7796afd100",
   "metadata": {},
   "outputs": [],
   "source": [
    "da.coords[\"itime\"] = (\"time\", np.arange(2920), {\"name\": \"value\"})\n",
    "da"
   ]
  },
  {
   "cell_type": "markdown",
   "id": "6146c08a-10da-413b-809a-057459afed54",
   "metadata": {},
   "source": [
    "### Exercises\n",
    "\n",
    "create a `DataArray` named \"height\" from random data `rng.random((180, 360)) * 400`\n",
    "\n",
    "1. with dimensions named \"latitude\" and \"longitude\"\n"
   ]
  },
  {
   "cell_type": "code",
   "execution_count": null,
   "id": "6b4d6202-750c-4e75-a950-53b221388b5e",
   "metadata": {
    "tags": [
     "hide-input",
     "hide-output"
    ]
   },
   "outputs": [],
   "source": [
    "xr.DataArray(rng.random((180, 360)) * 400, dims=(\"latitude\", \"longitude\"), name=\"height\")"
   ]
  },
  {
   "cell_type": "markdown",
   "id": "4c59f08d-2090-4214-980e-1f0b97fe8677",
   "metadata": {},
   "source": [
    "2. with dimension coordinates:\n",
    "\n",
    "- \"latitude\": -90 to 89 with step size 1\n",
    "- \"longitude\": -180 to 179 with step size 1\n"
   ]
  },
  {
   "cell_type": "code",
   "execution_count": null,
   "id": "729c2351-c48c-40b2-b473-917e9828b655",
   "metadata": {
    "tags": [
     "hide-input",
     "hide-output"
    ]
   },
   "outputs": [],
   "source": [
    "xr.DataArray(\n",
    "    rng.random((180, 360)) * 400,\n",
    "    dims=(\"latitude\", \"longitude\"),\n",
    "    coords={\"latitude\": np.arange(-90, 90, 1), \"longitude\": np.arange(-180, 180, 1)},\n",
    ")"
   ]
  },
  {
   "cell_type": "markdown",
   "id": "eadb4a67-765e-46e4-bb8c-c8e643b21f63",
   "metadata": {},
   "source": [
    "3. with metadata for both data and coordinates:\n",
    "\n",
    "- height: \"type\": \"ellipsoid\"\n",
    "- latitude: \"type\": \"geodetic\"\n",
    "- longitude: \"prime_meridian\": \"greenwich\"\n"
   ]
  },
  {
   "cell_type": "code",
   "execution_count": null,
   "id": "fb20e7c7-6f8e-4efe-a0fc-a2d2bc4e40f9",
   "metadata": {},
   "outputs": [],
   "source": [
    "xr.DataArray(\n",
    "    rng.random((180, 360)) * 400,\n",
    "    dims=(\"latitude\", \"longitude\"),\n",
    "    coords={\n",
    "        \"latitude\": (\"latitude\", np.arange(-90, 90, 1), {\"type\": \"geodetic\"}),\n",
    "        \"longitude\": (\n",
    "            \"longitude\",\n",
    "            np.arange(-180, 180, 1),\n",
    "            {\"prime_meridian\": \"greenwich\"},\n",
    "        ),\n",
    "    },\n",
    "    attrs={\"type\": \"ellipsoid\"},\n",
    "    name=\"height\",\n",
    ")"
   ]
  },
  {
   "cell_type": "markdown",
   "id": "8640c285-e582-494d-b745-80cd01e906b0",
   "metadata": {},
   "source": [
    "## Dataset\n",
    "\n",
    "`Dataset` objects collect multiple data variables, each with possibly different\n",
    "dimensions.\n",
    "\n",
    "The constructor of `Dataset` takes three parameters:\n",
    "\n",
    "- `data_vars`: dict-like mapping names to values. It has the format described in\n",
    "  [coordinates](#coordinates) except we need to use either `DataArray` objects\n",
    "  or the tuple syntax since we have to provide dimension names\n",
    "- `coords`: same as for `DataArray`\n",
    "- `attrs`: same as for `Dataset`"
   ]
  },
  {
   "cell_type": "markdown",
   "id": "45f659a9-f62f-4820-8a5d-29a79b51c27b",
   "metadata": {},
   "source": [
    "Creating an empty Dataset is easy!"
   ]
  },
  {
   "cell_type": "code",
   "execution_count": null,
   "id": "65581a0f-e8b8-4da5-85f7-6f847dc1f715",
   "metadata": {},
   "outputs": [],
   "source": [
    "xr.Dataset()"
   ]
  },
  {
   "cell_type": "markdown",
   "id": "d452b562-0813-421c-bd5f-67a0ea0cabe7",
   "metadata": {},
   "source": [
    "### Data Variables\n",
    "\n",
    "Let's create a `Dataset` with two data variables: `da` and `da2`"
   ]
  },
  {
   "cell_type": "code",
   "execution_count": null,
   "id": "50008d77-2783-4b66-8a8d-6b821d8a567d",
   "metadata": {},
   "outputs": [],
   "source": [
    "ds = xr.Dataset({\"air\": da, \"air2\": da2})\n",
    "ds"
   ]
  },
  {
   "cell_type": "markdown",
   "id": "0a6e4a5c-ff52-4102-b51e-4a3343d53c6c",
   "metadata": {},
   "source": [
    "You can directly assign a new data variables"
   ]
  },
  {
   "cell_type": "code",
   "execution_count": null,
   "id": "a5cfcfbd-7514-404d-98dc-ae1154ae6ad5",
   "metadata": {},
   "outputs": [],
   "source": [
    "ds[\"air3\"] = da\n",
    "ds"
   ]
  },
  {
   "cell_type": "markdown",
   "id": "da632cbd-a3d1-4aed-98f7-546faa4f27dc",
   "metadata": {},
   "source": [
    "### Coordinates\n",
    "\n",
    "Coordinate variables can be assigned using the `coords` kwarg to `xr.Dataset`. Here we use `date_range` from pandas to create a time vector"
   ]
  },
  {
   "cell_type": "code",
   "execution_count": null,
   "id": "9efc60be-a299-4aa8-992d-4f8a7dff44eb",
   "metadata": {},
   "outputs": [],
   "source": [
    "xr.Dataset(\n",
    "    {\"air\": da, \"air2\": da2},\n",
    "    coords={\"time\": pd.date_range(\"2013-01-01\", \"2014-12-31 18:00\", freq=\"6H\")},\n",
    ")"
   ]
  },
  {
   "cell_type": "markdown",
   "id": "e2e1cf16-f163-4a34-8433-ceb978deedfe",
   "metadata": {},
   "source": [
    "Again we can assign coordinate variables after a Dataset has been created."
   ]
  },
  {
   "cell_type": "code",
   "execution_count": null,
   "id": "25a19c02-1979-46da-86a3-e3a4546405a7",
   "metadata": {},
   "outputs": [],
   "source": [
    "ds"
   ]
  },
  {
   "cell_type": "code",
   "execution_count": null,
   "id": "91e462a1-6cab-496c-bb90-a9ca6ab4ae2c",
   "metadata": {},
   "outputs": [],
   "source": [
    "ds.coords[\"time\"] = pd.date_range(\"2013-01-01\", \"2014-12-31 18:00\", freq=\"6H\")\n",
    "ds"
   ]
  },
  {
   "cell_type": "markdown",
   "id": "473b8a3c-ef53-4b20-84ff-a5061cfaf4c7",
   "metadata": {},
   "source": [
    "### Attributes"
   ]
  },
  {
   "cell_type": "code",
   "execution_count": null,
   "id": "da3be397-7b28-44e8-86be-465df969edc2",
   "metadata": {},
   "outputs": [],
   "source": [
    "xr.Dataset(\n",
    "    {\"air\": da, \"air2\": da2},\n",
    "    coords={\"time\": pd.date_range(\"2013-01-01\", \"2014-12-31 18:00\", freq=\"6H\")},\n",
    "    attrs={\"key0\": \"value0\"},\n",
    ")"
   ]
  },
  {
   "cell_type": "code",
   "execution_count": null,
   "id": "987a518e-a130-4e02-8b80-6ff857d3cefe",
   "metadata": {},
   "outputs": [],
   "source": [
    "ds.attrs[\"key\"] = \"value\""
   ]
  },
  {
   "cell_type": "markdown",
   "id": "8c306194-d30d-4e45-bd9c-98d884bea506",
   "metadata": {},
   "source": [
    "### Exercises\n",
    "\n",
    "1. create a Dataset with two variables along `latitude` and `longitude`:\n",
    "   `height` and `gravity_anomaly`\n"
   ]
  },
  {
   "cell_type": "code",
   "execution_count": null,
   "id": "05ee871f-baf4-4418-99d5-85a509ac914d",
   "metadata": {},
   "outputs": [],
   "source": [
    "height = rng.random((180, 360)) * 400\n",
    "gravity_anomaly = rng.random((180, 360)) * 400 - 200"
   ]
  },
  {
   "cell_type": "code",
   "execution_count": null,
   "id": "b8c685db-b681-4e76-9e7c-4bceb6a0197b",
   "metadata": {
    "tags": [
     "hide-input",
     "hide-output"
    ]
   },
   "outputs": [],
   "source": [
    "xr.Dataset(\n",
    "    {\n",
    "        \"height\": ((\"latitude\", \"longitude\"), height),\n",
    "        \"gravity_anomaly\": ((\"latitude\", \"longitude\"), gravity_anomaly),\n",
    "    }\n",
    ")"
   ]
  },
  {
   "cell_type": "markdown",
   "id": "d47c394a-e3a0-4419-b03e-74454d14d27a",
   "metadata": {},
   "source": [
    "2. add coordinates to `latitude` and `longitude`:\n",
    "\n",
    "- `latitude`: from -90 to 90 with step size 1\n",
    "- `longitude`: from -180 to 180 with step size 1\n"
   ]
  },
  {
   "cell_type": "code",
   "execution_count": null,
   "id": "6211a7bf-4f49-46db-85f9-0cb69ac00867",
   "metadata": {},
   "outputs": [],
   "source": [
    "xr.Dataset(\n",
    "    {\n",
    "        \"height\": ((\"latitude\", \"longitude\"), height),\n",
    "        \"gravity_anomaly\": ((\"latitude\", \"longitude\"), gravity_anomaly),\n",
    "    },\n",
    "    coords={\n",
    "        \"latitude\": (\"latitude\", np.arange(-90, 90, 1)),\n",
    "        \"longitude\": (\"longitude\", np.arange(-180, 180, 1)),\n",
    "    },\n",
    ")"
   ]
  },
  {
   "cell_type": "markdown",
   "id": "51188a48-e22e-43f4-9929-c0bab61f0894",
   "metadata": {},
   "source": [
    "3. add metadata to coordinates and variables:\n",
    "\n",
    "- `latitude`: \"type\": \"geodetic\"\n",
    "- `longitude`: \"prime_meridian\": \"greenwich\"\n",
    "- `height`: \"ellipsoid\": \"wgs84\"\n",
    "- `gravity_anomaly`: \"ellipsoid\": \"grs80\"\n"
   ]
  },
  {
   "cell_type": "code",
   "execution_count": null,
   "id": "38f1f371-a978-43b0-a302-4b63ef240de7",
   "metadata": {
    "tags": [
     "hide-input",
     "hide-output"
    ]
   },
   "outputs": [],
   "source": [
    "xr.Dataset(\n",
    "    {\n",
    "        \"height\": ((\"latitude\", \"longitude\"), height, {\"ellipsoid\": \"wgs84\"}),\n",
    "        \"gravity_anomaly\": ((\"latitude\", \"longitude\"), gravity_anomaly, {\"ellipsoid\": \"grs80\"}),\n",
    "    },\n",
    "    coords={\n",
    "        \"latitude\": (\"latitude\", np.arange(-90, 90, 1), {\"type\": \"geodetic\"}),\n",
    "        \"longitude\": (\n",
    "            \"longitude\",\n",
    "            np.arange(-180, 180, 1),\n",
    "            {\"prime_meridian\": \"greenwich\"},\n",
    "        ),\n",
    "    },\n",
    ")"
   ]
  }
 ],
 "metadata": {
  "language_info": {
   "codemirror_mode": {
    "name": "ipython",
    "version": 3
   },
   "file_extension": ".py",
   "mimetype": "text/x-python",
   "name": "python",
   "nbconvert_exporter": "python",
   "pygments_lexer": "ipython3"
  }
 },
 "nbformat": 4,
 "nbformat_minor": 5
}
