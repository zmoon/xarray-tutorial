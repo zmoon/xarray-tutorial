{
 "cells": [
  {
   "cell_type": "markdown",
   "id": "3b76d0c1-ae2f-4256-8bb6-72355bad4bd1",
   "metadata": {
    "tags": []
   },
   "source": [
    "<img src=\"https://docs.xarray.dev/en/stable/_static/dataset-diagram-logo.png\" align=\"right\" width=\"30%\">\n",
    "\n",
    "\n",
    "# Weighted Reductions\n",
    "\n",
    "Xarray supports [weighted reductions](https://docs.xarray.dev/en/stable/user-guide/computation.html#weighted-array-reductions).\n",
    "\n",
    "For demonstration, we will create a “weights” array proportional to cosine of latitude.\n",
    "Modulo a normalization, this is the correct area-weighting factor for data on a regular lat-lon grid.\n"
   ]
  },
  {
   "cell_type": "code",
   "execution_count": null,
   "id": "0e0adfad-050f-4e1c-9485-df994e13449d",
   "metadata": {},
   "outputs": [],
   "source": [
    "import numpy as np\n",
    "import xarray as xr\n",
    "import matplotlib.pyplot as plt\n",
    "\n",
    "%config InlineBackend.figure_format='retina'"
   ]
  },
  {
   "cell_type": "code",
   "execution_count": null,
   "id": "37eec39c-264c-4c25-940c-4487b7851c04",
   "metadata": {},
   "outputs": [],
   "source": [
    "ds = xr.tutorial.load_dataset(\"ersstv5\")\n",
    "ds"
   ]
  },
  {
   "cell_type": "code",
   "execution_count": null,
   "id": "ef2e7b9b-e48d-4799-ab36-8c9a366e4adf",
   "metadata": {},
   "outputs": [],
   "source": [
    "weights = np.cos(np.deg2rad(ds.lat))\n",
    "display(weights.dims)\n",
    "\n",
    "weights.plot()"
   ]
  },
  {
   "cell_type": "markdown",
   "id": "b81b0f9c-fcac-45da-ad17-f2d2bd3b607e",
   "metadata": {},
   "source": [
    "## Manual weighting\n",
    "\n",
    "Thanks to the automatic broadcasting and alignment discussed earlier, if we multiply this by SST, it “just works,” and the arrays are broadcasted properly:"
   ]
  },
  {
   "cell_type": "code",
   "execution_count": null,
   "id": "2c4fd175-cdf0-4dd0-9804-b813e58d1cee",
   "metadata": {},
   "outputs": [],
   "source": [
    "(ds.sst * weights).dims"
   ]
  },
  {
   "cell_type": "markdown",
   "id": "94368724-c468-4bad-92fe-b795130e470b",
   "metadata": {},
   "source": [
    "We could imagine computing the weighted spatial mean of SST manually."
   ]
  },
  {
   "cell_type": "code",
   "execution_count": null,
   "id": "3ab67064-4aa0-4fb2-8c36-7455d280fe53",
   "metadata": {},
   "outputs": [],
   "source": [
    "sst_mean = (ds.sst * weights).sum(dim=(\"lon\", \"lat\")) / weights.sum(dim=\"lat\")\n",
    "sst_mean.plot()\n",
    "plt.title(\"This is wrong!\")"
   ]
  },
  {
   "cell_type": "markdown",
   "id": "6ac5337c-baae-4551-95a1-0c07ead19960",
   "metadata": {},
   "source": [
    "That would be wrong, however, because the denominator (`weights.sum(dim='lat')`)\n",
    "needs to be expanded to include the `lon` dimension and modified to account for\n",
    "the missing values (land points).\n",
    "\n",
    "\n",
    "## The `weighted` method\n",
    "In general, weighted reductions on multidimensional arrays are complicated. To\n",
    "make it a bit easier, Xarray provides a mechanism for weighted reductions. \n",
    "\n",
    "It does this by creating a special intermediate `DataArrayWeighted` object, to\n",
    "which different reduction operations can applied.\n",
    "\n"
   ]
  },
  {
   "cell_type": "code",
   "execution_count": null,
   "id": "33009c7f-5ce2-411f-a164-a50febbe88dc",
   "metadata": {},
   "outputs": [],
   "source": [
    "sst_weighted = ds.sst.weighted(weights)\n",
    "sst_weighted"
   ]
  },
  {
   "cell_type": "markdown",
   "id": "f6f6bf28-246b-4764-a3fa-06cd8dbfb92c",
   "metadata": {},
   "source": [
    "\n",
    "<div class=\"alert alert-info\">\n",
    "    Xarrays' computation methods (groupby, groupby_bins, rolling, coarsen, weighted) all return special objects that represent the basic underlying computation pattern. For e.g. `sst_weighted` above is a `DatasetWeighted` object that represents the weighting by `weights` of the data in `ds.sst`. It is usually helpful to save and reuse these objects for multiple operations (e.g. a mean and standard deviation calculation).\n",
    "</div>"
   ]
  },
  {
   "cell_type": "code",
   "execution_count": null,
   "id": "11dc3c75-91e4-4fa6-b24d-4515c004ccd0",
   "metadata": {},
   "outputs": [],
   "source": [
    "sst_weighted.mean(dim=(\"lon\", \"lat\")).plot()\n",
    "plt.title(\"Correct Global Mean SST\");"
   ]
  },
  {
   "cell_type": "markdown",
   "id": "83b3c0ee-a50e-43c6-a01d-534476be91d4",
   "metadata": {},
   "source": [
    "A handful of reductions have been implemented: [mean, sum, std, var](https://docs.xarray.dev/en/stable/api.html#weighted-objects)."
   ]
  }
 ],
 "metadata": {
  "language_info": {
   "codemirror_mode": {
    "name": "ipython",
    "version": 3
   },
   "file_extension": ".py",
   "mimetype": "text/x-python",
   "name": "python",
   "nbconvert_exporter": "python",
   "pygments_lexer": "ipython3"
  }
 },
 "nbformat": 4,
 "nbformat_minor": 5
}
