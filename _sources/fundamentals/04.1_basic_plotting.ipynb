{
 "cells": [
  {
   "cell_type": "markdown",
   "metadata": {
    "toc": true
   },
   "source": [
    "<img src=\"https://docs.xarray.dev/en/stable/_static/dataset-diagram-logo.png\" align=\"right\" width=\"30%\">\n",
    "\n",
    "# Basic Visualization\n",
    "\n",
    "At the end of this lesson you will learn:\n",
    "\n",
    "1. how to use xarray's convenient [matplotlib-backed](https://matplotlib.org/) plotting interface to\n",
    "   visualize your datasets.\n",
    "2. that `hvplot` provides an equally convenient interface for bokeh-backed plots"
   ]
  },
  {
   "cell_type": "code",
   "execution_count": null,
   "metadata": {},
   "outputs": [],
   "source": [
    "import matplotlib as mpl\n",
    "import matplotlib.pyplot as plt\n",
    "import numpy as np\n",
    "import xarray as xr\n",
    "\n",
    "%config InlineBackend.figure_format='retina'"
   ]
  },
  {
   "cell_type": "markdown",
   "metadata": {},
   "source": [
    "## Load data\n",
    "\n",
    "First let's load up a tutorial dataset to visualize.\n"
   ]
  },
  {
   "cell_type": "code",
   "execution_count": null,
   "metadata": {},
   "outputs": [],
   "source": [
    "ds = xr.tutorial.open_dataset(\"air_temperature_gradient\")\n",
    "ds"
   ]
  },
  {
   "cell_type": "markdown",
   "metadata": {},
   "source": [
    "This dataset has three \"data variables\", `Tair` is air temperature and `dTdx`\n",
    "and `dTdy` are horizontal gradients of this temperature field. All three \"data\n",
    "variables\" are three-dimensional with dimensions `(time, lat, lon)`.\n"
   ]
  },
  {
   "cell_type": "markdown",
   "metadata": {},
   "source": [
    "<a id='basic'></a>\n",
    "\n",
    "## Basic plotting: .plot()\n",
    "\n",
    "DataArray objects have a [plot](https://docs.xarray.dev/en/stable/generated/xarray.DataArray.plot.html) method. This method creates plots using\n",
    "`matplotlib` so all of your existing matplotlib knowledge carries over!\n",
    "\n",
    "By default `.plot()` makes\n",
    "\n",
    "1. a line plot for 1-D arrays using `plt.plot()`\n",
    "2. a `pcolormesh` plot for 2-D arrays using `plt.pcolormesh()`\n",
    "3. a histogram for everything else using `plt.hist()`\n"
   ]
  },
  {
   "cell_type": "markdown",
   "metadata": {},
   "source": [
    "<a id='hist'></a>\n",
    "\n",
    "## Histograms\n",
    "\n",
    "`Tair` is three-dimensional, so we got a histogram of temperature values. Notice\n",
    "the label on the x-axis. One of xarray's convenient plotting features is that it\n",
    "uses the `attrs` of `Tair` to nicely label axes and colorbars.\n"
   ]
  },
  {
   "cell_type": "code",
   "execution_count": null,
   "metadata": {},
   "outputs": [],
   "source": [
    "ds.Tair.plot()"
   ]
  },
  {
   "cell_type": "markdown",
   "metadata": {},
   "source": [
    "You can pass extra arguments to the underlying `hist()` call. See the [matplotlib\n",
    "docs](https://matplotlib.org/stable/api/_as_gen/matplotlib.pyplot.hist.html) for\n",
    "all possible keyword arguments.\n",
    "\n",
    "**Tip:** Note that the returned values are exactly what matplotlib would return\n",
    "\n",
    "### Exercise\n",
    "\n",
    "Update the above plot to show 50 bins with unfilled steps instead of filled\n",
    "bars.\n"
   ]
  },
  {
   "cell_type": "markdown",
   "metadata": {},
   "source": [
    "<a id='2d'></a>\n",
    "\n",
    "## 2D plots\n",
    "\n",
    "Now we will explore 2D plots. Let's select a single timestep of `Tair` to\n",
    "visualize.\n"
   ]
  },
  {
   "cell_type": "code",
   "execution_count": null,
   "metadata": {},
   "outputs": [],
   "source": [
    "ds.Tair.isel(time=1).plot()"
   ]
  },
  {
   "cell_type": "markdown",
   "metadata": {},
   "source": [
    "This is identical to `.plot.pcolormesh` which is more explicit"
   ]
  },
  {
   "cell_type": "code",
   "execution_count": null,
   "metadata": {},
   "outputs": [],
   "source": [
    "ds.Tair.isel(time=1).plot.pcolormesh()"
   ]
  },
  {
   "cell_type": "markdown",
   "metadata": {},
   "source": [
    "Notice how much information is on that plot!\n",
    "\n",
    "1. The x- and y-axes are labeled with full names — \"Latitude\", \"Longitude\" — along with units. \n",
    "2. The colorbar has a nice label, again with units. \n",
    "3. And the title tells us the timestamp of the data presented.\n",
    "\n",
    "`plot.pcolormesh` takes many [keyword arguments](https://docs.xarray.dev/en/stable/generated/xarray.plot.pcolormesh.html) and is quite sophisticated.\n",
    "\n",
    "Here is a more complicated figure that explicitly sets `time` as the x-axis,\n",
    "customizes the colorbar, and overlays two contours at specific levels.\n",
    "\n",
    "**Tip:** Other options for 2D plots include [.plot.contour](https://docs.xarray.dev/en/stable/generated/xarray.plot.contour.html), [.plot.contourf](https://docs.xarray.dev/en/stable/generated/xarray.plot.pcolormesh.html),\n",
    "[.plot.imshow](https://docs.xarray.dev/en/stable/generated/xarray.plot.imshow.html)\n"
   ]
  },
  {
   "cell_type": "code",
   "execution_count": null,
   "metadata": {},
   "outputs": [],
   "source": [
    "ds.Tair.isel(lon=1).plot(\n",
    "    x=\"time\",  # coordinate to plot on the x-axis of the plot\n",
    "    robust=True,  # set colorbar limits to 2nd and 98th percentile of data\n",
    "    cbar_kwargs={  # passed to plt.colorbar\n",
    "        \"orientation\": \"horizontal\",\n",
    "        \"label\": \"custom label\",\n",
    "        \"pad\": 0.3,\n",
    "    },\n",
    ")"
   ]
  },
  {
   "cell_type": "markdown",
   "metadata": {},
   "source": [
    "### Exercise\n",
    "\n",
    "Update the above plot to use a different matplotlib colormap.\n"
   ]
  },
  {
   "cell_type": "code",
   "execution_count": null,
   "metadata": {
    "tags": [
     "hide-input"
    ]
   },
   "outputs": [],
   "source": [
    "ds.Tair.isel(lon=1).plot(\n",
    "    x=\"time\",  # coordinate to plot on the x-axis of the plot\n",
    "    robust=True,  # set colorbar limits to 2nd and 98th percentile of data\n",
    "    cmap=mpl.cm.RdYlBu_r,\n",
    "    cbar_kwargs={  # passed to plt.colorbar\n",
    "        \"orientation\": \"horizontal\",\n",
    "        \"label\": \"custom label\",\n",
    "        \"pad\": 0.3,\n",
    "    },\n",
    ")"
   ]
  },
  {
   "cell_type": "markdown",
   "metadata": {},
   "source": [
    "### Exercise\n",
    "\n",
    "Now overlay a [contour plot](https://docs.xarray.dev/en/stable/generated/xarray.plot.contour.html) on top of the previous plot\n"
   ]
  },
  {
   "cell_type": "code",
   "execution_count": null,
   "metadata": {
    "tags": [
     "hide-input"
    ]
   },
   "outputs": [],
   "source": [
    "ds.Tair.isel(lon=1).plot.pcolormesh(\n",
    "    x=\"time\",  # coordinate to plot on the x-axis of the plot\n",
    "    robust=True,  # set colorbar limits to 2nd and 98th percentile of data\n",
    "    cmap=mpl.cm.RdYlBu_r,\n",
    "    cbar_kwargs={  # passed to plt.colorbar\n",
    "        \"orientation\": \"horizontal\",\n",
    "        \"label\": \"custom label\",\n",
    "        \"pad\": 0.3,\n",
    "    },\n",
    ")\n",
    "ds.Tair.isel(lon=1).plot.contour(\n",
    "    x=\"time\",  # coordinate to plot on the x-axis of the plot\n",
    "    levels=5,  # autoselect 5 levels between max, min\n",
    "    # The following are passed to plt.contour\n",
    "    colors=\"k\",\n",
    "    linewidths=0.5,\n",
    ")"
   ]
  },
  {
   "cell_type": "markdown",
   "metadata": {},
   "source": [
    "<a id='1d'></a>\n",
    "\n",
    "## 1D line plots\n",
    "\n",
    "xarray is also able to plot lines by wrapping `plt.plot()`. As in the earlier\n",
    "examples, the axes are labelled and keyword arguments can be passed to the\n",
    "underlying `matplotlib` call.\n"
   ]
  },
  {
   "cell_type": "code",
   "execution_count": null,
   "metadata": {},
   "outputs": [],
   "source": [
    "ds.Tair.isel(time=1, lon=10).plot(marker=\"o\")"
   ]
  },
  {
   "cell_type": "markdown",
   "metadata": {},
   "source": [
    "Again, this is equivalent to the more explicit [plot.line](https://docs.xarray.dev/en/stable/generated/xarray.plot.line.html)"
   ]
  },
  {
   "cell_type": "code",
   "execution_count": null,
   "metadata": {},
   "outputs": [],
   "source": [
    "ds.Tair.isel(time=1, lon=10).plot.line(marker=\"o\")"
   ]
  },
  {
   "cell_type": "markdown",
   "metadata": {},
   "source": [
    "### Multiple lines with `hue` \n",
    "\n",
    "Lets say we want to compare line plots of temperature at three different\n",
    "latitudes. We can use the `hue` kwarg to do this.\n"
   ]
  },
  {
   "cell_type": "code",
   "execution_count": null,
   "metadata": {},
   "outputs": [],
   "source": [
    "ds.Tair.isel(time=1).sel(lat=[40, 50, 60], method=\"nearest\").plot(x=\"lon\", hue=\"lat\")"
   ]
  },
  {
   "cell_type": "markdown",
   "metadata": {},
   "source": [
    "## Customization\n",
    "\n",
    "All of xarray's plotting functions take an large list kwargs that customize\n",
    "behaviour. A full list can be seen [here](https://docs.xarray.dev/en/stable/generated/xarray.plot.pcolormesh.html). That\n",
    "said xarray does not wrap all matplotlib functionality.\n",
    "\n",
    "The general strategy for making plots that are more complicated that the\n",
    "examples above is\n",
    "\n",
    "1. Create a matplotlib axis `ax`\n",
    "2. Use xarray to make a close approximation of the final plot specifying\n",
    "   `ax=ax`.\n",
    "3. Use `ax` methods to fully customize the plot\n"
   ]
  },
  {
   "cell_type": "markdown",
   "metadata": {
    "jp-MarkdownHeadingCollapsed": true,
    "tags": []
   },
   "source": [
    "## More resources\n",
    "\n",
    "1. [Xarray's visualization gallery](https://docs.xarray.dev/en/stable/examples/visualization_gallery.html)\n",
    "2. [Xarray's plotting documentation](https://docs.xarray.dev/en/stable/plotting.html)\n",
    "\n"
   ]
  }
 ],
 "metadata": {
  "language_info": {
   "codemirror_mode": {
    "name": "ipython",
    "version": 3
   },
   "file_extension": ".py",
   "mimetype": "text/x-python",
   "name": "python",
   "nbconvert_exporter": "python",
   "pygments_lexer": "ipython3"
  },
  "toc": {
   "base_numbering": 1,
   "nav_menu": {},
   "number_sections": true,
   "sideBar": true,
   "skip_h1_title": false,
   "title_cell": "Table of Contents",
   "title_sidebar": "Contents",
   "toc_cell": true,
   "toc_position": {},
   "toc_section_display": true,
   "toc_window_display": true
  }
 },
 "nbformat": 4,
 "nbformat_minor": 4
}
