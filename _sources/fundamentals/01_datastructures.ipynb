{
 "cells": [
  {
   "cell_type": "markdown",
   "metadata": {},
   "source": [
    "<img src=\"https://docs.xarray.dev/en/stable/_static/dataset-diagram-logo.png\" align=\"right\" width=\"30%\">\n",
    "\n",
    "# Xarray's Data structures\n",
    "\n",
    "In this lesson, we cover the basics of Xarray data structures. Our\n",
    "learning goals are as follows. By the end of the lesson, we will be able to:\n",
    "\n",
    "- Understand the basic data structures (`DataArray` and `Dataset` objects) in Xarray\n",
    "\n",
    "---\n",
    "\n",
    "## Introduction\n",
    "\n",
    "Multi-dimensional (a.k.a. N-dimensional, ND) arrays (sometimes called “tensors”)\n",
    "are an essential part of computational science. They are encountered in a wide\n",
    "range of fields, including physics, astronomy, geoscience, bioinformatics,\n",
    "engineering, finance, and deep learning. In Python, [NumPy](https://numpy.org/)\n",
    "provides the fundamental data structure and API for working with raw ND arrays.\n",
    "However, real-world datasets are usually more than just raw numbers; they have\n",
    "labels which encode information about how the array values map to locations in\n",
    "space, time, etc.\n",
    "\n",
    "Here is an example of how we might structure a dataset for a weather forecast:\n",
    "\n",
    "<img src=\"https://docs.xarray.dev/en/stable/_images/dataset-diagram.png\" align=\"center\" width=\"80%\">\n",
    "\n",
    "You'll notice multiple data variables (temperature, precipitation), coordinate\n",
    "variables (latitude, longitude), and dimensions (x, y, t). We'll cover how these\n",
    "fit into Xarray's data structures below.\n",
    "\n",
    "Xarray doesn’t just keep track of labels on arrays – it uses them to provide a\n",
    "powerful and concise interface. For example:\n",
    "\n",
    "- Apply operations over dimensions by name: `x.sum('time')`.\n",
    "\n",
    "- Select values by label (or logical location) instead of integer location:\n",
    "  `x.loc['2014-01-01']` or `x.sel(time='2014-01-01')`.\n",
    "\n",
    "- Mathematical operations (e.g., `x - y`) vectorize across multiple dimensions\n",
    "  (array broadcasting) based on dimension names, not shape.\n",
    "\n",
    "- Easily use the split-apply-combine paradigm with groupby:\n",
    "  `x.groupby('time.dayofyear').mean()`.\n",
    "\n",
    "- Database-like alignment based on coordinate labels that smoothly handles\n",
    "  missing values: `x, y = xr.align(x, y, join='outer')`.\n",
    "\n",
    "- Keep track of arbitrary metadata in the form of a Python dictionary:\n",
    "  `x.attrs`.\n",
    "\n",
    "The N-dimensional nature of xarray’s data structures makes it suitable for\n",
    "dealing with multi-dimensional scientific data, and its use of dimension names\n",
    "instead of axis labels (`dim='time'` instead of `axis=0`) makes such arrays much\n",
    "more manageable than the raw numpy ndarray: with xarray, you don’t need to keep\n",
    "track of the order of an array’s dimensions or insert dummy dimensions of size 1\n",
    "to align arrays (e.g., using np.newaxis).\n",
    "\n",
    "The immediate payoff of using xarray is that you’ll write less code. The\n",
    "long-term payoff is that you’ll understand what you were thinking when you come\n",
    "back to look at it weeks or months later.\n"
   ]
  },
  {
   "cell_type": "markdown",
   "metadata": {},
   "source": [
    "## Data structures\n",
    "\n",
    "Xarray provides two data structures: the `DataArray` and `Dataset`. The\n",
    "`DataArray` class attaches dimension names, coordinates and attributes to\n",
    "multi-dimensional arrays while `Dataset` combines multiple arrays.\n",
    "\n",
    "Both classes are most commonly created by reading data.\n",
    "To learn how to create a DataArray or Dataset manually, see the **Working with labeled data** tutorial.\n",
    "\n",
    "Xarray has a few small real-world tutorial datasets hosted in this GitHub repository https://github.com/pydata/xarray-data.\n",
    "We'll use the [xarray.tutorial.load_dataset](https://docs.xarray.dev/en/stable/generated/xarray.tutorial.open_dataset.html#xarray.tutorial.open_dataset) convenience function to download and open the `air_temperature` (National Centers for Environmental Prediction) Dataset by name."
   ]
  },
  {
   "cell_type": "code",
   "execution_count": null,
   "metadata": {},
   "outputs": [],
   "source": [
    "import numpy as np\n",
    "import xarray as xr"
   ]
  },
  {
   "cell_type": "markdown",
   "metadata": {},
   "source": [
    "### Dataset\n",
    "\n",
    "`Dataset` objects are dictionary-like containers of DataArrays, mapping a variable name to each DataArray.\n"
   ]
  },
  {
   "cell_type": "code",
   "execution_count": null,
   "metadata": {},
   "outputs": [],
   "source": [
    "ds = xr.tutorial.load_dataset(\"air_temperature\")\n",
    "ds"
   ]
  },
  {
   "cell_type": "markdown",
   "metadata": {},
   "source": [
    "We can access \"layers\" of the Dataset (individual DataArrays) with dictionary syntax"
   ]
  },
  {
   "cell_type": "code",
   "execution_count": null,
   "metadata": {},
   "outputs": [],
   "source": [
    "ds[\"air\"]"
   ]
  },
  {
   "cell_type": "markdown",
   "metadata": {},
   "source": [
    "We can save some typing by using the \"attribute\" or \"dot\" notation. This won't work for variable names that clash with built-in\n",
    "method names (for example, `mean`)."
   ]
  },
  {
   "cell_type": "code",
   "execution_count": null,
   "metadata": {},
   "outputs": [],
   "source": [
    "ds.air"
   ]
  },
  {
   "cell_type": "markdown",
   "metadata": {},
   "source": [
    "#### What is all this anyway? (String representations)\n",
    "\n",
    "Xarray has two representation types: `\"html\"` (which is only available in\n",
    "notebooks) and `\"text\"`. To choose between them, use the `display_style` option.\n",
    "\n",
    "So far, our notebook has automatically displayed the `\"html\"` representation (which we will continue using).\n",
    "The `\"html\"` representation is interactive, allowing you to collapse sections (left arrows) and\n",
    "view attributes and values for each value (right hand sheet icon and data symbol)."
   ]
  },
  {
   "cell_type": "code",
   "execution_count": null,
   "metadata": {},
   "outputs": [],
   "source": [
    "with xr.set_options(display_style=\"html\"):\n",
    "    display(ds)"
   ]
  },
  {
   "cell_type": "markdown",
   "metadata": {},
   "source": [
    "The output consists of:\n",
    "\n",
    "- a summary of all *dimensions* of the `Dataset` `(lat: 25, time: 2920, lon: 53)`: this tells us that the first\n",
    "  dimension is named `lat` and has a size of `25`, the second dimension is named\n",
    "  `time` and has a size of `2920`, and the third dimension is named `lon` and has a size\n",
    "  of `53`. Because we will access the dimensions by name, the order doesn't matter.\n",
    "- an unordered list of *coordinates* or dimensions with coordinates with one item\n",
    "  per line. Each item has a name, one or more dimensions in parentheses, a dtype\n",
    "  and a preview of the values. Also, if it is a dimension coordinate, it will be\n",
    "  marked with a `*`.\n",
    "- an alphabetically sorted list of *dimensions without coordinates* (if there are any)\n",
    "- an unordered list of *attributes*, or metadata"
   ]
  },
  {
   "cell_type": "markdown",
   "metadata": {},
   "source": [
    "Compare that with the string representation, which is very similar except the dimensions are given a `*` prefix instead of bold and you cannot collapse or expand the outputs."
   ]
  },
  {
   "cell_type": "code",
   "execution_count": null,
   "metadata": {},
   "outputs": [],
   "source": [
    "with xr.set_options(display_style=\"text\"):\n",
    "    display(ds)"
   ]
  },
  {
   "cell_type": "markdown",
   "metadata": {},
   "source": [
    "To understand each of the components better, we'll explore the \"air\" variable of our Dataset."
   ]
  },
  {
   "cell_type": "markdown",
   "metadata": {},
   "source": [
    "### DataArray\n",
    "\n",
    "The `DataArray` class consists of an array (data) and its associated dimension names, labels, and attributes (metadata).\n"
   ]
  },
  {
   "cell_type": "code",
   "execution_count": null,
   "metadata": {},
   "outputs": [],
   "source": [
    "da = ds[\"air\"]\n",
    "da"
   ]
  },
  {
   "cell_type": "markdown",
   "metadata": {},
   "source": [
    "#### String representations\n",
    "\n",
    "We can use the same two respresentations (`\"html\"`, which is only available in\n",
    "notebooks, and `\"text\"`) to display our `DataArray`."
   ]
  },
  {
   "cell_type": "code",
   "execution_count": null,
   "metadata": {},
   "outputs": [],
   "source": [
    "with xr.set_options(display_style=\"html\"):\n",
    "    display(da)"
   ]
  },
  {
   "cell_type": "code",
   "execution_count": null,
   "metadata": {},
   "outputs": [],
   "source": [
    "with xr.set_options(display_style=\"text\"):\n",
    "    display(da)"
   ]
  },
  {
   "cell_type": "markdown",
   "metadata": {},
   "source": [
    "In the string representation of a `DataArray` (versus a `Dataset`), we also see:\n",
    "- the `DataArray` name ('air')\n",
    "- a preview of the array data (collapsible in the `\"html\"` representation)"
   ]
  },
  {
   "cell_type": "markdown",
   "metadata": {},
   "source": [
    "We can also access the data array directly:"
   ]
  },
  {
   "cell_type": "code",
   "execution_count": null,
   "metadata": {},
   "outputs": [],
   "source": [
    "ds.air.data  # (or equivalently, `da.data`)"
   ]
  },
  {
   "cell_type": "markdown",
   "metadata": {},
   "source": [
    "#### Named dimensions \n",
    "\n",
    "`.dims` are the named axes of your data. They may (dimension coordinates) or may not (dimensions without coordinates) have associated values. Names can be anything that fits into a Python `set` (i.e. calling `hash()` on it doesn't raise an error), but to be\n",
    "useful they should be strings.\n",
    "\n",
    "In this case we have 2 spatial dimensions (`latitude` and `longitude` are stored with shorthand names `lat` and `lon`) and one temporal dimension (`time`)."
   ]
  },
  {
   "cell_type": "code",
   "execution_count": null,
   "metadata": {},
   "outputs": [],
   "source": [
    "ds.air.dims"
   ]
  },
  {
   "cell_type": "markdown",
   "metadata": {},
   "source": [
    "#### Coordinates\n",
    "\n",
    "\n",
    "`.coords` is a simple [dict-like](https://docs.python.org/3/glossary.html#term-mapping) [data container](https://docs.xarray.dev/en/stable/user-guide/data-structures.html#coordinates)\n",
    "for mapping coordinate names to values. These values can be:\n",
    "- another `DataArray` object\n",
    "- a tuple of the form `(dims, data, attrs)` where `attrs` is optional. This is\n",
    "  roughly equivalent to creating a new `DataArray` object with\n",
    "  `DataArray(dims=dims, data=data, attrs=attrs)`\n",
    "- a 1-dimensional `numpy` array (or anything that can be coerced to one using [`numpy.array`](https://numpy.org/doc/stable/reference/generated/numpy.array.html), such as a `list`) containing numbers, datetime objects, strings, etc. to label each point.\n",
    "\n",
    "Here we see the actual timestamps and spatial positions of our air temperature data:\n"
   ]
  },
  {
   "cell_type": "code",
   "execution_count": null,
   "metadata": {},
   "outputs": [],
   "source": [
    "ds.air.coords"
   ]
  },
  {
   "cell_type": "markdown",
   "metadata": {},
   "source": [
    "The difference between the dimension labels (dimension coordinates) and normal\n",
    "coordinates is that for now it only is possible to use indexing operations\n",
    "(`sel`, `reindex`, etc.) with dimension coordinates. Also, while coordinates can\n",
    "have arbitrary dimensions, dimension coordinates have to be one-dimensional."
   ]
  },
  {
   "cell_type": "markdown",
   "metadata": {},
   "source": [
    "#### Attributes \n",
    "\n",
    "`.attrs` is a dictionary that can contain arbitrary Python objects (strings, lists, integers, dictionaries, etc.) containing information about your data. Your only\n",
    "limitation is that some attributes may not be writeable to certain file formats."
   ]
  },
  {
   "cell_type": "code",
   "execution_count": null,
   "metadata": {},
   "outputs": [],
   "source": [
    "ds.air.attrs"
   ]
  },
  {
   "cell_type": "markdown",
   "metadata": {},
   "source": [
    "## To Pandas and back\n",
    "\n",
    "`DataArray` and `Dataset` objects are frequently created by converting from\n",
    "other libraries such as [pandas](https://pandas.pydata.org/) or by reading from\n",
    "data storage formats such as\n",
    "[NetCDF](https://www.unidata.ucar.edu/software/netcdf/) or\n",
    "[zarr](https://zarr.readthedocs.io/en/stable/).\n",
    "\n",
    "To convert from / to `pandas`, we can use the\n",
    "<code>[to_xarray](https://pandas.pydata.org/pandas-docs/stable/reference/api/pandas.DataFrame.to_xarray.html)</code>\n",
    "methods on [pandas](https://zarr.readthedocs.io/en/stable/) objects or the\n",
    "<code>[to_pandas](https://docs.xarray.dev/en/stable/generated/xarray.DataArray.to_pandas.html)</code>\n",
    "methods on `xarray` objects:\n"
   ]
  },
  {
   "cell_type": "code",
   "execution_count": null,
   "metadata": {},
   "outputs": [],
   "source": [
    "import pandas as pd"
   ]
  },
  {
   "cell_type": "code",
   "execution_count": null,
   "metadata": {},
   "outputs": [],
   "source": [
    "series = pd.Series(np.ones((10,)), index=list(\"abcdefghij\"))\n",
    "series"
   ]
  },
  {
   "cell_type": "code",
   "execution_count": null,
   "metadata": {},
   "outputs": [],
   "source": [
    "arr = series.to_xarray()\n",
    "arr"
   ]
  },
  {
   "cell_type": "code",
   "execution_count": null,
   "metadata": {},
   "outputs": [],
   "source": [
    "arr.to_pandas()"
   ]
  },
  {
   "cell_type": "markdown",
   "metadata": {},
   "source": [
    "We can also control what `pandas` object is used by calling `to_series` /\n",
    "`to_dataframe`:\n"
   ]
  },
  {
   "cell_type": "markdown",
   "metadata": {},
   "source": [
    "**<code>to_series</code>**: This will always convert `DataArray` objects to\n",
    "`pandas.Series`, using a `MultiIndex` for higher dimensions\n"
   ]
  },
  {
   "cell_type": "code",
   "execution_count": null,
   "metadata": {},
   "outputs": [],
   "source": [
    "ds.air.to_series()"
   ]
  },
  {
   "cell_type": "markdown",
   "metadata": {},
   "source": [
    "**<code>to_dataframe</code>**: This will always convert `DataArray` or `Dataset`\n",
    "objects to a `pandas.DataFrame`. Note that `DataArray` objects have to be named\n",
    "for this.\n"
   ]
  },
  {
   "cell_type": "code",
   "execution_count": null,
   "metadata": {},
   "outputs": [],
   "source": [
    "ds.air.to_dataframe()"
   ]
  },
  {
   "cell_type": "markdown",
   "metadata": {},
   "source": [
    "Since columns in a `DataFrame` need to have the same index, they are\n",
    "broadcasted.\n"
   ]
  },
  {
   "cell_type": "code",
   "execution_count": null,
   "metadata": {},
   "outputs": [],
   "source": [
    "ds.to_dataframe()"
   ]
  }
 ],
 "metadata": {
  "interpreter": {
   "hash": "e1fd91e1433c68a24bbc2950cbc84f731f846faaebb12a808b0de0faaa910846"
  },
  "language_info": {
   "codemirror_mode": {
    "name": "ipython",
    "version": 3
   },
   "file_extension": ".py",
   "mimetype": "text/x-python",
   "name": "python",
   "nbconvert_exporter": "python",
   "pygments_lexer": "ipython3"
  }
 },
 "nbformat": 4,
 "nbformat_minor": 4
}
