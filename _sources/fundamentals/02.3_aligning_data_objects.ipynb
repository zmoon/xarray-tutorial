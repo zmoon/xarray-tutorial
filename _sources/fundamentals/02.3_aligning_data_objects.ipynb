{
 "cells": [
  {
   "cell_type": "markdown",
   "metadata": {},
   "source": [
    "<img src=\"https://docs.xarray.dev/en/stable/_static/dataset-diagram-logo.png\" align=\"right\" width=\"30%\">\n",
    "\n",
    "# Computing with Multiple Objects\n",
    "\n",
    "Learning goals:\n",
    "\n",
    "- Perform operations across multiple datasets\n",
    "- Understand two important concepts: broadcasting and alignment."
   ]
  },
  {
   "cell_type": "code",
   "execution_count": null,
   "metadata": {},
   "outputs": [],
   "source": [
    "import matplotlib.pyplot as plt\n",
    "import numpy as np\n",
    "import xarray as xr\n",
    "\n",
    "%config InlineBackend.figure_format='retina'\n",
    "\n",
    "plt.style.use(\"bmh\")\n",
    "\n",
    "np.random.seed(0)"
   ]
  },
  {
   "cell_type": "markdown",
   "metadata": {},
   "source": [
    "Here is a motivating calculation where we subtract two DataArrays with data available at different locations in the (space, time) plane."
   ]
  },
  {
   "cell_type": "code",
   "execution_count": null,
   "metadata": {},
   "outputs": [],
   "source": [
    "arr1 = xr.DataArray(\n",
    "    np.arange(12).reshape(3, 4),\n",
    "    dims=(\"space\", \"time\"),\n",
    "    coords={\"space\": [\"a\", \"b\", \"c\"], \"time\": [0, 1, 2, 3]},\n",
    ")\n",
    "arr1"
   ]
  },
  {
   "cell_type": "code",
   "execution_count": null,
   "metadata": {},
   "outputs": [],
   "source": [
    "arr2 = xr.DataArray(\n",
    "    [0, 1],\n",
    "    dims=\"space\",\n",
    "    coords={\"space\": [\"b\", \"d\"]},\n",
    ")\n",
    "arr2"
   ]
  },
  {
   "cell_type": "markdown",
   "metadata": {},
   "source": [
    "Note that `arr1` is 2D; while `arr2` is 1D along `space` and has values at two locations only.\n",
    "\n",
    "Now subtract the two."
   ]
  },
  {
   "cell_type": "code",
   "execution_count": null,
   "metadata": {},
   "outputs": [],
   "source": [
    "arr1 - arr2"
   ]
  },
  {
   "cell_type": "markdown",
   "metadata": {},
   "source": [
    "To understand this output, we must understand two fundamental concepts underlying computation with Xarray objects\n",
    "\n",
    "1. Broadcasting: The objects need to have compatible shapes.\n",
    "2. Alignment: The objects need to have values at the same coordinate labels\n",
    "\n"
   ]
  },
  {
   "cell_type": "markdown",
   "metadata": {},
   "source": [
    "## Broadcasting: adjusting arrays to the same shape\n",
    "\n",
    "**Broadcasting** allows an operator or a function to act on two or more arrays\n",
    "to operate even if these arrays do not have the same shape. That said, not all\n",
    "the dimensions can be subjected to broadcasting; they must meet certain rules.\n",
    "The image below illustrates how an operation on arrays with\n",
    "different coordinates will result in automatic broadcasting\n",
    "\n",
    "![](../images/broadcasting_schematic.png)\n",
    "\n",
    "Credit: Stephan Hoyer --\n",
    "[xarray ECMWF Python workshop](https://docs.google.com/presentation/d/16CMY3g_OYr6fQplUZIDqVtG-SKZqsG8Ckwoj2oOqepU/)\n",
    "\n",
    "Numpy's broadcasting rules, based on array shape, can sometimes be\n",
    "difficult to understand and remember. Xarray does broadcasting by dimension name,\n",
    "rather than array shape. This is a huge convenience.\n",
    "\n",
    "Here are two 1D arrays"
   ]
  },
  {
   "cell_type": "code",
   "execution_count": null,
   "metadata": {},
   "outputs": [],
   "source": [
    "array1 = xr.DataArray(\n",
    "    np.arange(3),\n",
    "    dims=\"space\",\n",
    "    coords={\"space\": [\"a\", \"b\", \"c\"]},\n",
    "    name=\"array1\",\n",
    ")\n",
    "array2 = xr.DataArray(\n",
    "    np.arange(4),\n",
    "    dims=\"time\",\n",
    "    coords={\"time\": [0, 1, 2, 3]},\n",
    "    name=\"array2\",\n",
    ")\n",
    "display(array1)\n",
    "display(array2)"
   ]
  },
  {
   "cell_type": "markdown",
   "metadata": {},
   "source": [
    "Let's subtract the two:"
   ]
  },
  {
   "cell_type": "code",
   "execution_count": null,
   "metadata": {},
   "outputs": [],
   "source": [
    "array1 - array2"
   ]
  },
  {
   "cell_type": "markdown",
   "metadata": {},
   "source": [
    "We see that the result is a 2D array. \n",
    "\n",
    "When subtracting, Xarray first realizes that `array1` is missing the dimension `time` and `array2` is missing the dimension `space`.  Xarray then broadcasts or \"expands\" both arrays to 2D with dimensions `space`, `time`. Here is an illustration:\n",
    "\n",
    "![](../images/broadcasting_schematic.png)\n",
    "\n",
    "While this detail is hidden, we can explicitly broadcast any number of arrays against each other using [xr.broadcast](https://docs.xarray.dev/en/stable/generated/xarray.broadcast.html)"
   ]
  },
  {
   "cell_type": "code",
   "execution_count": null,
   "metadata": {},
   "outputs": [],
   "source": [
    "array1_broadcasted, array2_broadcasted = xr.broadcast(array1, array2)\n",
    "display(array1_broadcasted.dims)\n",
    "display(array2_broadcasted.dims)"
   ]
  },
  {
   "cell_type": "markdown",
   "metadata": {},
   "source": [
    "To get the final anomaly, Xarray calculates"
   ]
  },
  {
   "cell_type": "code",
   "execution_count": null,
   "metadata": {},
   "outputs": [],
   "source": [
    "# identical to array1 - array2\n",
    "array1_broadcasted - array2_broadcasted"
   ]
  },
  {
   "cell_type": "markdown",
   "metadata": {},
   "source": [
    "### Broadcasting in numpy\n",
    "\n",
    "For contrast let us examine the pure numpy version  of this calculation. We use [.data](https://docs.xarray.dev/en/stable/generated/xarray.DataArray.data.html) to extract the underlying numpy array object.\n"
   ]
  },
  {
   "cell_type": "code",
   "execution_count": null,
   "metadata": {
    "tags": [
     "raises-exception"
    ]
   },
   "outputs": [],
   "source": [
    "array1.data - array2.data"
   ]
  },
  {
   "cell_type": "markdown",
   "metadata": {},
   "source": [
    "To get this calculation to work, we need to insert new axes manually using [np.newaxis](https://numpy.org/doc/stable/reference/constants.html?highlight=newaxis)."
   ]
  },
  {
   "cell_type": "code",
   "execution_count": null,
   "metadata": {},
   "outputs": [],
   "source": [
    "array1.data[:, np.newaxis] - array2.data[np.newaxis, :]"
   ]
  },
  {
   "cell_type": "markdown",
   "metadata": {},
   "source": [
    "\n",
    "Because xarray knows about dimension names we avoid having to create unnecessary\n",
    "size-1 dimensions using `np.newaxis` or `.reshape`. This is yet another example where the _metadata_ (dimension names) reduces the mental overhead associated with coding a calculation\n",
    "\n",
    "For more, see the [Xarray documentation](https://docs.xarray.dev/en/stable/user-guide/computation.html#broadcasting-by-dimension-name) and the [numpy documentation](https://numpy.org/doc/stable/user/basics.broadcasting.html) on broadcasting.\n"
   ]
  },
  {
   "cell_type": "markdown",
   "metadata": {},
   "source": [
    "### Exercise\n",
    "\n",
    "Consider the following 2D array. What are the dimensions of `array - array.mean(\"time\")`?"
   ]
  },
  {
   "cell_type": "code",
   "execution_count": null,
   "metadata": {
    "tags": []
   },
   "outputs": [],
   "source": [
    "array = xr.DataArray(\n",
    "    np.arange(12).reshape(3, 4),\n",
    "    dims=(\"space\", \"time\"),\n",
    "    coords={\"space\": [\"a\", \"b\", \"c\"], \"time\": [0, 1, 2, 3]},\n",
    "    name=\"array\",\n",
    ")"
   ]
  },
  {
   "cell_type": "code",
   "execution_count": null,
   "metadata": {
    "tags": [
     "hide-output"
    ]
   },
   "outputs": [],
   "source": [
    "(array - array.mean(\"time\")).dims"
   ]
  },
  {
   "cell_type": "markdown",
   "metadata": {
    "tags": []
   },
   "source": [
    "## Alignment: putting data on the same grid\n",
    "\n",
    "\n",
    "When combining two input arrays using an arithmetic operation, both arrays must first be converted to the same coordinate system. This is \"alignment\".\n",
    "\n",
    "![](../images/alignment_schematic.png)\n",
    "\n",
    "\n",
    "Here are two 2D DataArrays with different shapes."
   ]
  },
  {
   "cell_type": "code",
   "execution_count": null,
   "metadata": {},
   "outputs": [],
   "source": [
    "arr1 = xr.DataArray(\n",
    "    np.arange(12).reshape(3, 4),\n",
    "    dims=(\"space\", \"time\"),\n",
    "    coords={\"space\": [\"a\", \"b\", \"c\"], \"time\": [0, 1, 2, 3]},\n",
    ")\n",
    "arr1"
   ]
  },
  {
   "cell_type": "code",
   "execution_count": null,
   "metadata": {},
   "outputs": [],
   "source": [
    "arr2 = xr.DataArray(\n",
    "    np.arange(14).reshape(2, 7),\n",
    "    dims=(\"space\", \"time\"),\n",
    "    coords={\"space\": [\"b\", \"d\"], \"time\": [-2, -1, 0, 1, 2, 3, 4]},\n",
    ")\n",
    "arr2"
   ]
  },
  {
   "cell_type": "markdown",
   "metadata": {},
   "source": [
    "`arr1` and `arr2` have the same dimensions (space, time) but have values at different locations in the (space, time) plane  with some locations in common.\n",
    "\n",
    ":::{note}\n",
    "xarray assumes coordinate labels are in the same coordinate system such that space='b' in arr1 is the same as space='b' in arr2. For more sophisticated handling of coordinate systems see [rioxarray](https://corteva.github.io/rioxarray/stable/)\n",
    ":::"
   ]
  },
  {
   "cell_type": "code",
   "execution_count": null,
   "metadata": {
    "tags": [
     "hide-input"
    ]
   },
   "outputs": [],
   "source": [
    "def visualize_mesh(array, *args, ax=None, **kwargs):\n",
    "    \"\"\"Visualizes array's mesh ((points at which values are present).\"\"\"\n",
    "\n",
    "    # Use broadcast to generate 2D x_, y_ arrays from the 1D x,y arrays\n",
    "    space_, time_ = xr.broadcast(array.space, array.time)\n",
    "    if ax is None:\n",
    "        ax = plt.gca()\n",
    "    kwargs.setdefault(\"fillstyle\", \"none\")\n",
    "    kwargs.setdefault(\"markersize\", 10)\n",
    "    ax.plot(space_.data.ravel(), time_.data.ravel(), *args, **kwargs)\n",
    "    ax.set_xlabel(\"space\")\n",
    "    ax.set_ylabel(\"time\")\n",
    "\n",
    "\n",
    "visualize_mesh(arr1, \"<\")\n",
    "visualize_mesh(arr2, \">\")\n",
    "plt.ylim([-3, 6])\n",
    "plt.legend([\"arr1\", \"arr2\"]);"
   ]
  },
  {
   "cell_type": "markdown",
   "metadata": {},
   "source": [
    "We see that both arrays only have values in common at `x=\"b\"` and `y=[0, 1, 2, 3]`. Before applying an arithmetic operation we must first modify each DataArray so that they have values at the *same* points. This is \"alignment\".\n",
    "\n",
    "### Controlling alignment\n",
    "\n",
    "We can explicitly align objects using [xr.align](https://docs.xarray.dev/en/stable/generated/xarray.align.html). The key decision to make is how to decide which points must be kept. The other way to think of alignment is that objects must be converted to a common grid prior to any operation combining multiiple objects. This decision is controlled by the `\"join\"` keyword argument. Xarray provides 5 ways to convert the coordinate labels of multiple Datasets to a common grid. This [terminology](https://en.wikipedia.org/wiki/Join_(SQL)) originates in the database community.\n",
    "\n",
    "1. `join=\"inner\"` or reindex to the \"intersection set\" of coordinate labels\n",
    "2. `join=\"outer\"` or reindex to the \"union set\" of coordinate labels\n",
    "3. `join=\"left\"`  or reindex to the coordinate labels of the leftmost object\n",
    "4. `join=\"right\"` or reindex to the coordinate labels of the rightmost object\n",
    "5. `join=\"exact\"` checks for exact equality of coordinate labels before the operation.\n",
    "\n",
    "First lets try an inner join. This is the default for arithmetic operations in Xarray. We see that the result has values for locations that `arr1` and `arr2` have in common: `x=\"b\"` and `y=[0, 1, 2, 3]`. Here is an illustration\n",
    "\n",
    "![](../images/alignment_schematic.png)"
   ]
  },
  {
   "cell_type": "code",
   "execution_count": null,
   "metadata": {},
   "outputs": [],
   "source": [
    "a1_aligned, a2_aligned = xr.align(arr1, arr2, join=\"inner\")\n",
    "a1_aligned"
   ]
  },
  {
   "cell_type": "code",
   "execution_count": null,
   "metadata": {},
   "outputs": [],
   "source": [
    "a2_aligned"
   ]
  },
  {
   "cell_type": "markdown",
   "metadata": {},
   "source": [
    "Here's a visual depiction of all the `join` options"
   ]
  },
  {
   "cell_type": "code",
   "execution_count": null,
   "metadata": {
    "tags": [
     "hide-input"
    ]
   },
   "outputs": [],
   "source": [
    "def visualize_join(a1, a2, join, ax=None):\n",
    "    a1_aligned, a2_aligned = xr.align(arr1, arr2, join=join)\n",
    "\n",
    "    visualize_mesh(a1, \"<\", ax=ax)\n",
    "    visualize_mesh(a2, \">\", ax=ax)\n",
    "    visualize_mesh(a1_aligned, \".\", markersize=32, color=\"C3\", ax=ax)\n",
    "\n",
    "    ax.set_ylim([-3, 6])\n",
    "    ax.set_title(f\"join={join!r}\")\n",
    "\n",
    "\n",
    "f, ax = plt.subplots(1, 4, sharex=True, sharey=True)\n",
    "for axx, join in zip(ax, [\"inner\", \"outer\", \"left\", \"right\"]):\n",
    "    visualize_join(arr1, arr2, join, ax=axx)\n",
    "ax[-1].legend([\"arr1\", \"arr2\", \"after align\"], bbox_to_anchor=(1, 1))\n",
    "f.set_size_inches(10, 4);"
   ]
  },
  {
   "cell_type": "markdown",
   "metadata": {},
   "source": [
    "**Exercise**  Consider the following two arrays. Write down the `x` and `y` coordinate locations for `da1 - da2`"
   ]
  },
  {
   "cell_type": "code",
   "execution_count": null,
   "metadata": {},
   "outputs": [],
   "source": [
    "da1 = xr.DataArray(\n",
    "    np.arange(12).reshape(3, 4),\n",
    "    dims=(\"space\", \"time\"),\n",
    "    coords={\"space\": [\"a\", \"b\", \"c\"], \"time\": [0, 1, 2, 3]},\n",
    ")\n",
    "da2 = xr.DataArray(\n",
    "    [0, 1],\n",
    "    dims=\"space\",\n",
    "    coords={\"space\": [\"b\", \"d\"]},\n",
    ")"
   ]
  },
  {
   "cell_type": "markdown",
   "metadata": {
    "tags": [
     "hide-input"
    ]
   },
   "source": [
    "**Answer** `x = [\"b\"], y=[0, 1, 2, 3]` . `da2` has been broadcasted to 2D  (so dimension \"y\" has been inserted) and the two arrays are aligned using `join=\"inner\"` prior to subtraction."
   ]
  },
  {
   "cell_type": "markdown",
   "metadata": {},
   "source": [
    "### Further control over alignment\n",
    "\n",
    "#### Controlling the fill value\n",
    "\n",
    "For all join options other than `\"inner\"` Xarray will insert a `fill_value` at locations not present in the original dataset. By default this is NaN"
   ]
  },
  {
   "cell_type": "code",
   "execution_count": null,
   "metadata": {},
   "outputs": [],
   "source": [
    "arr1_aligned, _ = xr.align(arr1, arr2, join=\"outer\")\n",
    "arr1_aligned"
   ]
  },
  {
   "cell_type": "markdown",
   "metadata": {},
   "source": [
    "Control the \"fill value\" by specifying the `fill_value` keyword argument"
   ]
  },
  {
   "cell_type": "code",
   "execution_count": null,
   "metadata": {},
   "outputs": [],
   "source": [
    "arr1_aligned, _ = xr.align(arr1, arr2, join=\"outer\", fill_value=0)\n",
    "arr1_aligned"
   ]
  },
  {
   "cell_type": "markdown",
   "metadata": {},
   "source": [
    "#### Checking that objects are aligned\n",
    "\n",
    "`join=\"exact\"` is special in that it checks to make sure that the objects _are_ aligned.\n",
    "\n",
    "For `arr1` and `arr2` this will raise an error since `arr1.x` is not identical to `arr2.x` (and similarly for `y`)"
   ]
  },
  {
   "cell_type": "code",
   "execution_count": null,
   "metadata": {
    "tags": [
     "raises-exception"
    ]
   },
   "outputs": [],
   "source": [
    "xr.align(arr1, arr2, join=\"exact\")"
   ]
  },
  {
   "cell_type": "markdown",
   "metadata": {},
   "source": [
    "#### Controlling automatic alignment\n",
    "\n",
    "Xarray's default for arithmetic operations is `join=\"inner\"`. This is controllable using the [xr.set_options](https://docs.xarray.dev/en/stable/generated/xarray.set_options.html) context manager"
   ]
  },
  {
   "cell_type": "code",
   "execution_count": null,
   "metadata": {},
   "outputs": [],
   "source": [
    "with xr.set_options(arithmetic_join=\"outer\"):\n",
    "    result = arr1 - arr2\n",
    "result"
   ]
  }
 ],
 "metadata": {
  "language_info": {
   "codemirror_mode": {
    "name": "ipython",
    "version": 3
   },
   "file_extension": ".py",
   "mimetype": "text/x-python",
   "name": "python",
   "nbconvert_exporter": "python",
   "pygments_lexer": "ipython3"
  }
 },
 "nbformat": 4,
 "nbformat_minor": 4
}
