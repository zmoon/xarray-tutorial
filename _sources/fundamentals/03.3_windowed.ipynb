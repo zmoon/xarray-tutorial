{
 "cells": [
  {
   "cell_type": "markdown",
   "id": "5d7c85f4-6334-4527-ae2e-34312161aa31",
   "metadata": {},
   "source": [
    "<img src=\"https://docs.xarray.dev/en/stable/_static/dataset-diagram-logo.png\" align=\"right\" width=\"30%\">\n",
    "\n",
    "# Windowed Computations\n",
    "\n",
    "Xarray has built-in support for windowed operations:\n",
    "1. [rolling](https://docs.xarray.dev/en/stable/user-guide/computation.html#rolling-window-operations) - Sliding windows of fixed length.\n",
    "2. [coarsen](https://docs.xarray.dev/en/stable/user-guide/computation.html#coarsen-large-arrays) - block windows of fixed length.\n",
    "\n",
    "\n",
    "In this notebook, we'll learn to \n",
    "1. Compute rolling, or sliding window, means along one or more dimensions.\n",
    "2. Compute block averages along a dimension.\n",
    "3. Use `construct` to reshape arrays so that a new dimension provides windowed views to the data.\n"
   ]
  },
  {
   "cell_type": "code",
   "execution_count": null,
   "id": "5863f858-a381-45ba-8f28-bc152fc845c1",
   "metadata": {},
   "outputs": [],
   "source": [
    "import numpy as np\n",
    "import xarray as xr\n",
    "import matplotlib.pyplot as plt\n",
    "\n",
    "%config InlineBackend.figure_format='retina'"
   ]
  },
  {
   "cell_type": "code",
   "execution_count": null,
   "id": "9eb4ab3a-d83b-4a00-ab7f-6895b592e732",
   "metadata": {},
   "outputs": [],
   "source": [
    "ds = xr.tutorial.load_dataset(\"ersstv5\")\n",
    "ds"
   ]
  },
  {
   "cell_type": "markdown",
   "id": "18a05cff-447b-4007-ac11-3bf207d99008",
   "metadata": {},
   "source": [
    "## Rolling or moving windows"
   ]
  },
  {
   "cell_type": "markdown",
   "id": "0693900c-b4e1-4547-8c0d-1374850a1d5c",
   "metadata": {},
   "source": [
    "Rolling window operations \n",
    "1. can be applied along any dimension, or along multiple dimensions.\n",
    "2. returns object of same shape as input\n",
    "3. pads with NaNs to make (3) possible\n",
    "\n",
    "Again, all common reduction operations are [available](https://docs.xarray.dev/en/stable/api.html#rolling-objects)"
   ]
  },
  {
   "cell_type": "code",
   "execution_count": null,
   "id": "0f393ba9-4606-457a-9766-2ea90f0cbccd",
   "metadata": {},
   "outputs": [],
   "source": [
    "rolling = ds.rolling(time=12, center=True)\n",
    "rolling"
   ]
  },
  {
   "cell_type": "markdown",
   "id": "b48567bc-108a-4527-8011-5a4d45bdf966",
   "metadata": {},
   "source": [
    "<div class=\"alert alert-info\">\n",
    "    Xarrays' computation methods (groupby, groupby_bins, rolling, coarsen, weighted) all return special objects that represent the basic underlying computation pattern. For e.g. `rolling` above is a `DatasetRolling` object that represents 12-point rolling windows of the data in `ds` . It is usually helpful to save and reuse these objects for multiple operations (e.g. a mean and standard deviation calculation).\n",
    "</div>"
   ]
  },
  {
   "cell_type": "code",
   "execution_count": null,
   "id": "1b726ec2-f722-4f46-931f-dcef74f50b80",
   "metadata": {},
   "outputs": [],
   "source": [
    "ds_rolling = rolling.mean()\n",
    "ds_rolling"
   ]
  },
  {
   "cell_type": "code",
   "execution_count": null,
   "id": "db779a4e-7284-4928-a6a9-d677254d98d4",
   "metadata": {},
   "outputs": [],
   "source": [
    "ds.sst.sel(lon=300, lat=50).plot(label=\"monthly anom\")\n",
    "ds_rolling.sst.sel(lon=300, lat=50).plot(label=\"12 month rolling mean\")\n",
    "plt.legend()"
   ]
  },
  {
   "cell_type": "markdown",
   "id": "f4ec25a8-372e-4e36-a60c-50fe37a353df",
   "metadata": {},
   "source": [
    "We can apply rolling mean along multiple dimensions as a 2D smoother in (lat, lon). Here is an example of a 5-point running mean applied along both the `lat` and `lon` dimensions"
   ]
  },
  {
   "cell_type": "code",
   "execution_count": null,
   "id": "cf7c70b3-1ca2-4647-89b3-a9d2859a329c",
   "metadata": {},
   "outputs": [],
   "source": [
    "extract = ds.sst.isel(time=0)\n",
    "smoothed = extract.rolling(lon=5, lat=5, center=True).mean()\n",
    "\n",
    "f, ax = plt.subplots(2, 1, sharex=True, sharey=True)\n",
    "extract.plot(ax=ax[0], robust=True)\n",
    "smoothed.plot(ax=ax[1], robust=True)\n",
    "f.set_size_inches((10, 7))\n",
    "plt.tight_layout()"
   ]
  },
  {
   "cell_type": "markdown",
   "id": "014fb2fe-5673-477a-a1ce-2e50a9509f8c",
   "metadata": {},
   "source": [
    "Note the addition of NaNs at the data boundaries and near continental boundaries."
   ]
  },
  {
   "cell_type": "markdown",
   "id": "0209579c-c0f8-4736-b726-fa46752686e3",
   "metadata": {},
   "source": [
    "### Custom reductions\n",
    "\n",
    "While common reductions are implemented by default, sometimes it is useful to apply our own windowed operations. For these uses, Xarray provides the `construct` methods for [DataArray.rolling](https://docs.xarray.dev/en/stable/generated/xarray.core.rolling.DataArrayRolling.construct.html) and [Dataset.rolling](https://docs.xarray.dev/en/stable/generated/xarray.core.rolling.DatasetRolling.construct.html).\n",
    "\n",
    "For rolling over a dimension `time` with a window size `N`, `construct` adds a new dimension (with user-provided name) of size `N`. \n",
    "\n",
    "We illustrate with a simple example array:"
   ]
  },
  {
   "cell_type": "code",
   "execution_count": null,
   "id": "68512e39-02a7-45d9-8b68-c9ac72384c58",
   "metadata": {},
   "outputs": [],
   "source": [
    "simple = xr.DataArray(np.arange(10), dims=\"time\", coords={\"time\": np.arange(10)})\n",
    "simple"
   ]
  },
  {
   "cell_type": "markdown",
   "id": "f7d5c0f5-6b33-4c81-9314-a760520bbaf8",
   "metadata": {},
   "source": [
    "We call `construct` and provide a name for the new dimension: `window`"
   ]
  },
  {
   "cell_type": "code",
   "execution_count": null,
   "id": "fbc19683-1b10-4bff-83b8-14b94361150b",
   "metadata": {},
   "outputs": [],
   "source": [
    "# adds a new dimension \"window\"\n",
    "simple.rolling(time=5, center=True).construct(\"window\")"
   ]
  },
  {
   "cell_type": "markdown",
   "id": "3c903632-7221-4969-9f00-963881f87853",
   "metadata": {},
   "source": [
    "### Exercise\n",
    "\n",
    "\n",
    "Illustrate the difference between `center=True` and `center=False` for rolling by looking at the `construct`-ed array."
   ]
  },
  {
   "cell_type": "code",
   "execution_count": null,
   "id": "23e2166f-ef45-4ea8-bbf7-2c133fa11ca2",
   "metadata": {
    "tags": [
     "hide-input",
     "hide-output"
    ]
   },
   "outputs": [],
   "source": [
    "display(\"center=True\")\n",
    "display(simple.rolling(time=5, center=True).construct(\"window\"))\n",
    "\n",
    "display(\"center=True\")\n",
    "display(simple.rolling(time=5, center=False).construct(\"window\"))"
   ]
  },
  {
   "cell_type": "markdown",
   "id": "c2584414-92bc-48ce-b1f4-0389da06bbb0",
   "metadata": {},
   "source": [
    "## Coarsening\n",
    "\n",
    "`coarsen` does something similar to `rolling`, but allows us to work with discrete *non-overlapping* blocks of data.\n",
    "\n",
    "You will need to specify `boundary` if the length of the dimension is not a multiple of the window size (\"block size\"). You can choose to\n",
    "1. `trim` the excess values\n",
    "2. `pad` with NaNs\n",
    "\n",
    "Again, all standard reductions are [implemented](https://docs.xarray.dev/en/stable/api.html#coarsen-objects)."
   ]
  },
  {
   "cell_type": "code",
   "execution_count": null,
   "id": "403ab4e5-6f8c-4322-a7e1-42e761c447be",
   "metadata": {},
   "outputs": [],
   "source": [
    "coarse = ds.coarsen(lon=5, lat=5)\n",
    "coarse"
   ]
  },
  {
   "cell_type": "markdown",
   "id": "002b8759-aa0e-4186-aaea-3e415392fe42",
   "metadata": {},
   "source": [
    "<div class=\"alert alert-info\">\n",
    "    Xarrays' computation methods (groupby, groupby_bins, rolling, coarsen, weighted) all return special objects that represent the basic underlying computation pattern. For e.g. `coarse` above is a `DatasetCoarsen` object that represents 5-point windows along lat, lon of the data in `ds`. It is usually helpful to save and reuse these objects for multiple operations (e.g. a mean and standard deviation calculation).\n",
    "</div>"
   ]
  },
  {
   "cell_type": "code",
   "execution_count": null,
   "id": "f7464560-1516-4adb-81bd-9fa4ebf9fe44",
   "metadata": {
    "tags": [
     "raises-exception",
     "output-scroll"
    ]
   },
   "outputs": [],
   "source": [
    "# we expect an error here because lat has size 89, which is not divisible by block size 5\n",
    "coarse.mean()"
   ]
  },
  {
   "cell_type": "code",
   "execution_count": null,
   "id": "2715d62f-25ba-491b-988f-97b796c64741",
   "metadata": {},
   "outputs": [],
   "source": [
    "coarse = ds.coarsen(lat=5, lon=5, boundary=\"trim\").mean()\n",
    "coarse"
   ]
  },
  {
   "cell_type": "code",
   "execution_count": null,
   "id": "31ca5529-fd36-4236-9d9d-9a17c8b96a5e",
   "metadata": {},
   "outputs": [],
   "source": [
    "coarse.sst.isel(time=0).plot();"
   ]
  },
  {
   "cell_type": "markdown",
   "id": "e6ebec4e-5835-46e9-b7b2-b1a2ce2d1877",
   "metadata": {},
   "source": [
    "### Custom reductions\n",
    "\n",
    "Like `rolling`, `coarsen` also provides a `construct` method for custom block operations. \n",
    "\n",
    "**Tip** `coarsen.construct` is a handy way to reshape Xarray objects.\n",
    "\n",
    "Consider a \"monthly\" 1D timeseries. This simple example has one value per month for 2 years"
   ]
  },
  {
   "cell_type": "code",
   "execution_count": null,
   "id": "2b6e88f0-5289-44ca-bc44-be93d8adc70a",
   "metadata": {},
   "outputs": [],
   "source": [
    "months = xr.DataArray(\n",
    "    np.tile(np.arange(1, 13), reps=2),\n",
    "    dims=\"time\",\n",
    "    coords={\"time\": np.arange(1, 25)},\n",
    ")\n",
    "months"
   ]
  },
  {
   "cell_type": "markdown",
   "id": "824d41b9-b030-473a-86b0-a71ac95bfe5d",
   "metadata": {},
   "source": [
    "Now we reshape to get one new dimension `year` of size 12."
   ]
  },
  {
   "cell_type": "code",
   "execution_count": null,
   "id": "f705292d-58e5-4806-96d1-f297267e9314",
   "metadata": {},
   "outputs": [],
   "source": [
    "# break \"time\" into two new dimensions: \"year\", \"month\"\n",
    "months.coarsen(time=12).construct(time=(\"year\", \"month\"))"
   ]
  },
  {
   "cell_type": "markdown",
   "id": "9b97df2d-b320-4dc7-9d40-7377519fb2e7",
   "metadata": {},
   "source": [
    "### Exercise\n",
    "\n",
    "Imagine the array `months` was one element shorter. Use `boundary=\"pad\"` and the `side` kwarg to reshape `months.isel(time=slice(1, None))` to a 2D DataArray with the following values:\n",
    "\n",
    "```\n",
    "array([[nan,  2.,  3.,  4.,  5.,  6.,  7.,  8.,  9., 10., 11., 12.],\n",
    "       [ 1.,  2.,  3.,  4.,  5.,  6.,  7.,  8.,  9., 10., 11., 12.]])\n",
    "```"
   ]
  },
  {
   "cell_type": "code",
   "execution_count": null,
   "id": "5f7733ad-0483-43d4-b48b-6a782de27332",
   "metadata": {
    "tags": [
     "hide-input",
     "hide-output"
    ]
   },
   "outputs": [],
   "source": [
    "months.isel(time=slice(1, None)).coarsen({\"time\": 12}, boundary=\"pad\", side=\"right\").construct(\n",
    "    time=(\"year\", \"month\")\n",
    ")"
   ]
  },
  {
   "cell_type": "markdown",
   "id": "ac49ab39-b8b4-4514-a46f-28601276db48",
   "metadata": {},
   "source": [
    "Note that `coarsen` pads with NaNs. For more control over paddnig, use\n",
    "[DataArray.pad](https://docs.xarray.dev/en/stable/generated/xarray.DataArray.pad.html) explicitly."
   ]
  },
  {
   "cell_type": "markdown",
   "id": "9d8ccd77-dbd0-41ba-b2d2-7b3ed5b9e976",
   "metadata": {
    "jp-MarkdownHeadingCollapsed": true,
    "tags": []
   },
   "source": [
    "## Going further\n",
    "\n",
    "1. See the documentation on [rolling](https://docs.xarray.dev/en/stable/user-guide/computation.html#rolling-window-operations) and [coarsen](https://docs.xarray.dev/en/stable/user-guide/computation.html#coarsen-large-arrays).\n",
    "2. Follow the tutorial on [high-level computational patterns](https://tutorial.xarray.dev/intermediate/01-high-level-computation-patterns.html#)"
   ]
  }
 ],
 "metadata": {
  "language_info": {
   "codemirror_mode": {
    "name": "ipython",
    "version": 3
   },
   "file_extension": ".py",
   "mimetype": "text/x-python",
   "name": "python",
   "nbconvert_exporter": "python",
   "pygments_lexer": "ipython3"
  }
 },
 "nbformat": 4,
 "nbformat_minor": 5
}
