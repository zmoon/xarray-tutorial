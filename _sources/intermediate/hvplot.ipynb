{
 "cells": [
  {
   "cell_type": "markdown",
   "id": "68b31548-7f97-4e1b-912a-e026746dd5bf",
   "metadata": {},
   "source": [
    "<img src=\"https://docs.xarray.dev/en/stable/_static/dataset-diagram-logo.png\" align=\"right\" width=\"30%\">\n",
    "\n",
    "\n",
    "# Interactive plots using hvplot\n",
    "\n",
    "Xarray's builtin plotting functionality wraps matplotlib.\n",
    "\n",
    "The `holoviews` [ecosystem](https://hvplot.holoviz.org/) provides the `hvplot` package to allow easy\n",
    "visualization of xarray (and other) objects. These\n",
    "plots build on [Bokeh](https://bokeh.org/).\n",
    "\n",
    "`hvplot` makes uses of xarray's [accessor interface](https://docs.xarray.dev/en/stable/internals/extending-xarray.html). This means that all xarray\n",
    "objects gain a `.hvplot` attribute that lets you access `.hvplot` functionality\n",
    "as easily as you would use `.plot`. All you need to do is `import hvplot.xarray`\n",
    "\n",
    "For more, see hvplot's [documentation](https://hvplot.holoviz.org/user_guide/Gridded_Data.html)\n"
   ]
  },
  {
   "cell_type": "code",
   "execution_count": null,
   "id": "054cb195-98be-4866-8426-768051248a16",
   "metadata": {},
   "outputs": [],
   "source": [
    "import cartopy.crs as ccrs\n",
    "import hvplot.xarray\n",
    "import xarray as xr"
   ]
  },
  {
   "cell_type": "code",
   "execution_count": null,
   "id": "f23f8b29-32de-47df-beff-dbe9b92675a5",
   "metadata": {},
   "outputs": [],
   "source": [
    "ds = xr.tutorial.open_dataset(\"air_temperature.nc\").rename({\"air\": \"Tair\"})"
   ]
  },
  {
   "cell_type": "markdown",
   "id": "32b094b5-b404-4dc5-b5ff-40165187edb6",
   "metadata": {},
   "source": [
    "## Basics\n",
    "\n",
    "`hvplot` makes the same default choices as `DataArray.plot`\n"
   ]
  },
  {
   "cell_type": "code",
   "execution_count": null,
   "id": "53dfe034-4642-40cf-960e-360f014e44d8",
   "metadata": {},
   "outputs": [],
   "source": [
    "ds.Tair.hvplot()"
   ]
  },
  {
   "cell_type": "code",
   "execution_count": null,
   "id": "067403ec-06fd-449f-8c53-9fc24e15b7d2",
   "metadata": {},
   "outputs": [],
   "source": [
    "# 2D array yields a quadmesh plot\n",
    "ds.Tair.isel(time=1).hvplot(cmap=\"fire\")"
   ]
  },
  {
   "cell_type": "code",
   "execution_count": null,
   "id": "07877f83-f22a-4ae8-b683-4149b5e12916",
   "metadata": {},
   "outputs": [],
   "source": [
    "# 1D array yields a line plot\n",
    "ds.Tair.isel(time=1, lon=1).hvplot()"
   ]
  },
  {
   "cell_type": "markdown",
   "id": "3c382d8e-4670-40b4-8cc1-b3e9fd2bb65b",
   "metadata": {},
   "source": [
    "## Interactivity\n",
    "\n",
    "But `hvplot` shines when interactivity is used. Here we can give it _all_ the\n",
    "data and ask it to create a nice slider to control the time slice using the\n",
    "`groupby` kwarg.\n"
   ]
  },
  {
   "cell_type": "code",
   "execution_count": null,
   "id": "df27f297-9253-4993-af85-e19c687284c8",
   "metadata": {},
   "outputs": [],
   "source": [
    "ds.Tair.hvplot(\n",
    "    groupby=\"time\",\n",
    "    clim=(250, 295),  # adds a widget for time  # sets colorbar limits\n",
    ")"
   ]
  },
  {
   "cell_type": "markdown",
   "id": "932c7dd5-8854-4ff6-805c-9b445a74ea64",
   "metadata": {},
   "source": [
    "## Animations\n",
    "\n",
    "are easy.\n"
   ]
  },
  {
   "cell_type": "code",
   "execution_count": null,
   "id": "532dae58-9ab9-44b7-82b5-a5026538fbca",
   "metadata": {},
   "outputs": [],
   "source": [
    "# set constant colorbar limits\n",
    "ds.Tair.hvplot(\n",
    "    groupby=\"time\",  # adds a widget for time\n",
    "    clim=(250, 295),  # sets colormap limits\n",
    "    widget_type=\"scrubber\",\n",
    "    widget_location=\"bottom\",\n",
    ")"
   ]
  },
  {
   "cell_type": "markdown",
   "id": "b986cfc2-391e-4854-a768-10ae6cf93a82",
   "metadata": {},
   "source": [
    "## Geography\n"
   ]
  },
  {
   "cell_type": "code",
   "execution_count": null,
   "id": "f4c7dfe0-1f91-4f8f-8021-65b369d4b88e",
   "metadata": {},
   "outputs": [],
   "source": [
    "ds.Tair.isel(time=1).hvplot(\n",
    "    projection=ccrs.Orthographic(-90, 30),\n",
    "    coastline=True,\n",
    ")"
   ]
  }
 ],
 "metadata": {
  "language_info": {
   "codemirror_mode": {
    "name": "ipython",
    "version": 3
   },
   "file_extension": ".py",
   "mimetype": "text/x-python",
   "name": "python",
   "nbconvert_exporter": "python",
   "pygments_lexer": "ipython3"
  }
 },
 "nbformat": 4,
 "nbformat_minor": 5
}
