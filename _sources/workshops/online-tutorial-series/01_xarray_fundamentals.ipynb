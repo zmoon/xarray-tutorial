{
 "cells": [
  {
   "cell_type": "markdown",
   "metadata": {},
   "source": [
    "# Xarray Fundamentals\n"
   ]
  },
  {
   "cell_type": "markdown",
   "metadata": {},
   "source": [
    "## Learning Objectives\n",
    "\n",
    "- Provide an overview of xarray\n",
    "- Describe the core xarray data structures, the DataArray and the Dataset, and\n",
    "  the components that make them up\n",
    "- Load xarray dataset from a netCDF file\n",
    "- View and set attributes\n"
   ]
  },
  {
   "cell_type": "markdown",
   "metadata": {},
   "source": [
    "## What Is Xarray?\n",
    "\n",
    "- Unlabeled, N-dimensional arrays of numbers (e.g., NumPy’s ndarray) are the\n",
    "  most widely used data structure in scientific computing. However, they lack a\n",
    "  meaningful representation of the metadata associated with their data.\n",
    "  Implementing such functionality is left to individual users and\n",
    "  domain-specific packages.\n",
    "\n",
    "- xarry expands on the capabilities of NumPy arrays, providing a lot of\n",
    "  streamline data manipulation.\n",
    "\n",
    "- Xarray's interface is based largely on the netCDF data model (variables,\n",
    "  attributes, and dimensions), but it goes beyond the traditional netCDF\n",
    "  interfaces to provide functionality similar to netCDF-java's Common Data Model\n",
    "  (CDM).\n",
    "\n",
    "- xarray is motivated by weather and climate use cases but is **domain\n",
    "  agnostic**...\n"
   ]
  },
  {
   "cell_type": "markdown",
   "metadata": {},
   "source": [
    "## Core Data Structures\n",
    "\n",
    "- xarray has 2 fundamental data structures:\n",
    "\n",
    "  - `DataArray`, which holds single multi-dimensional variables and its\n",
    "    coordinates\n",
    "  - `Dataset`, which holds multiple variables that potentially share the same\n",
    "    coordinates\n",
    "\n",
    "![](../../images/xarray-data-structures.png)\n"
   ]
  },
  {
   "cell_type": "markdown",
   "metadata": {},
   "source": [
    "### Loading data from netCDF\n",
    "\n",
    "- NetCDF (network Common Data Form) is a file format for storing\n",
    "  multidimensional array data\n",
    "- NetCDF is a self-describing, meaning that a netCDF file includes information\n",
    "  about the data it contains, and the necessary metadata such as coordinate\n",
    "  system used, attributes describing the data, etc...\n",
    "- NetCDF is used extensively in the geoscience communities\n",
    "- Xarray's interface is based largely on the netCDF data model\n",
    "\n",
    "Learn more about netCDF\n",
    "[here](https://docs.unidata.ucar.edu/netcdf-c/current/faq.html#What-Is-netCDF).\n"
   ]
  },
  {
   "cell_type": "code",
   "execution_count": null,
   "metadata": {},
   "outputs": [],
   "source": [
    "import xarray as xr\n",
    "\n",
    "%config InlineBackend.figure_format='retina'"
   ]
  },
  {
   "cell_type": "code",
   "execution_count": null,
   "metadata": {},
   "outputs": [],
   "source": [
    "# Load mean sea surface temperature dataset\n",
    "ds = xr.open_dataset(\"../../data/sst.mnmean.nc\", engine=\"netcdf4\")\n",
    "\n",
    "# xarray's HTML representation\n",
    "ds"
   ]
  },
  {
   "cell_type": "code",
   "execution_count": null,
   "metadata": {},
   "outputs": [],
   "source": [
    "# If you prefer a text based repr, you can set the display_style='text' by uncommenting the line below\n",
    "# xr.set_options(display_style=\"text\")"
   ]
  },
  {
   "cell_type": "code",
   "execution_count": null,
   "metadata": {
    "tags": [
     "hide-output",
     "output_scroll"
    ]
   },
   "outputs": [],
   "source": [
    "# Look at the netCDF representation\n",
    "ds.info()"
   ]
  },
  {
   "cell_type": "markdown",
   "metadata": {},
   "source": [
    "### `Dataset`\n",
    "\n",
    "- Xarray's `Dataset` is a dict-like container of labeled arrays (`DataArrays`)\n",
    "  with aligned dimensions. - It is designed as an in-memory representation of a\n",
    "  netCDF dataset.\n",
    "- In addition to the dict-like interface of the dataset itself, which can be\n",
    "  used to access any `DataArray` in a `Dataset`. Datasets have the following key\n",
    "  properties:\n",
    "\n",
    "| Attribute   | Description                                                                                                                              |\n",
    "| ----------- | ---------------------------------------------------------------------------------------------------------------------------------------- |\n",
    "| `data_vars` | OrderedDict of `DataArray` objects corresponding to data variables.                                                                      |\n",
    "| `dims`      | dictionary mapping from dimension names to the fixed length of each dimension (e.g., {`lat`: 6, `lon`: 6, `time`: 8}).                   |\n",
    "| `coords`    | a dict-like container of arrays (coordinates) that label each point (e.g., 1-dimensional arrays of numbers, datetime objects or strings) |\n",
    "| `attrs`     | OrderedDict to hold arbitrary metadata pertaining to the dataset.                                                                        |\n"
   ]
  },
  {
   "cell_type": "code",
   "execution_count": null,
   "metadata": {},
   "outputs": [],
   "source": [
    "# variables are in our dataset\n",
    "ds.data_vars"
   ]
  },
  {
   "cell_type": "code",
   "execution_count": null,
   "metadata": {},
   "outputs": [],
   "source": [
    "# select one variable and pick the first entry along the first axis (time)\n",
    "ds.sst[0]"
   ]
  },
  {
   "cell_type": "code",
   "execution_count": null,
   "metadata": {},
   "outputs": [],
   "source": [
    "# Plot one timestep\n",
    "ds.sst[0].plot();"
   ]
  },
  {
   "cell_type": "code",
   "execution_count": null,
   "metadata": {},
   "outputs": [],
   "source": [
    "# dataset dimensions\n",
    "ds.dims"
   ]
  },
  {
   "cell_type": "code",
   "execution_count": null,
   "metadata": {},
   "outputs": [],
   "source": [
    "# dataset coordinates\n",
    "ds.coords"
   ]
  },
  {
   "cell_type": "code",
   "execution_count": null,
   "metadata": {
    "tags": [
     "output_scroll"
    ]
   },
   "outputs": [],
   "source": [
    "# dataset global attributes\n",
    "ds.attrs"
   ]
  },
  {
   "cell_type": "markdown",
   "metadata": {},
   "source": [
    "### `DataArray`\n",
    "\n",
    "The DataArray is xarray's implementation of a labeled, multi-dimensional array.\n",
    "It has several key properties:\n",
    "\n",
    "| Attribute | Description                                                                                                                              |\n",
    "| --------- | ---------------------------------------------------------------------------------------------------------------------------------------- |\n",
    "| `data`    | `numpy.ndarray` or `dask.array` holding the array's values.                                                                              |\n",
    "| `dims`    | dimension names for each axis. For example:(`x`, `y`, `z`) (`lat`, `lon`, `time`).                                                       |\n",
    "| `coords`  | a dict-like container of arrays (coordinates) that label each point (e.g., 1-dimensional arrays of numbers, datetime objects or strings) |\n",
    "| `attrs`   | an `OrderedDict` to hold arbitrary attributes/metadata (such as units)                                                                   |\n",
    "| `name`    | an arbitrary name of the array                                                                                                           |\n"
   ]
  },
  {
   "cell_type": "code",
   "execution_count": null,
   "metadata": {},
   "outputs": [],
   "source": [
    "# Extract the sst variable/datarray\n",
    "ds[\"sst\"]  # Equivalent to ds.sst"
   ]
  },
  {
   "cell_type": "code",
   "execution_count": null,
   "metadata": {
    "tags": [
     "hide-output"
    ]
   },
   "outputs": [],
   "source": [
    "# The actual (numpy) array data\n",
    "ds.sst.data"
   ]
  },
  {
   "cell_type": "code",
   "execution_count": null,
   "metadata": {},
   "outputs": [],
   "source": [
    "# dataarray/variable dimensions\n",
    "ds.sst.dims"
   ]
  },
  {
   "cell_type": "code",
   "execution_count": null,
   "metadata": {},
   "outputs": [],
   "source": [
    "# datarray/variable coordinates\n",
    "ds.sst.coords"
   ]
  },
  {
   "cell_type": "code",
   "execution_count": null,
   "metadata": {},
   "outputs": [],
   "source": [
    "# dataarray/variable attributes\n",
    "ds.sst.attrs"
   ]
  },
  {
   "cell_type": "markdown",
   "metadata": {},
   "source": [
    "## Coordinates vs dimensions\n"
   ]
  },
  {
   "cell_type": "markdown",
   "metadata": {},
   "source": [
    "- DataArray objects inside a Dataset may have any number of dimensions but are\n",
    "  presumed to share a common coordinate system.\n",
    "- Coordinates can also have any number of dimensions but denote\n",
    "  constant/independent quantities, unlike the varying/dependent quantities that\n",
    "  belong in data.\n",
    "- A dimension is just a name of an axis, like \"time\"\n"
   ]
  },
  {
   "cell_type": "code",
   "execution_count": null,
   "metadata": {},
   "outputs": [],
   "source": [
    "ds.dims"
   ]
  },
  {
   "cell_type": "code",
   "execution_count": null,
   "metadata": {},
   "outputs": [],
   "source": [
    "ds.coords"
   ]
  },
  {
   "cell_type": "code",
   "execution_count": null,
   "metadata": {
    "tags": [
     "hide-output"
    ]
   },
   "outputs": [],
   "source": [
    "# extracting a coordinate variable\n",
    "ds.sst.lon"
   ]
  },
  {
   "cell_type": "code",
   "execution_count": null,
   "metadata": {
    "tags": [
     "hide-output"
    ]
   },
   "outputs": [],
   "source": [
    "# extracting a coorindate variable from .coords\n",
    "ds.coords[\"time\"]"
   ]
  },
  {
   "cell_type": "markdown",
   "metadata": {},
   "source": [
    "## Attributes\n",
    "\n",
    "Attributes can be used to store metadata. What metadata should you store? It\n",
    "depends on your domain and your needs\n"
   ]
  },
  {
   "cell_type": "code",
   "execution_count": null,
   "metadata": {
    "tags": [
     "output_scroll"
    ]
   },
   "outputs": [],
   "source": [
    "# Look at global attributes\n",
    "ds.attrs"
   ]
  },
  {
   "cell_type": "code",
   "execution_count": null,
   "metadata": {},
   "outputs": [],
   "source": [
    "# Look at variable specific attributes\n",
    "ds.sst.attrs"
   ]
  },
  {
   "cell_type": "code",
   "execution_count": null,
   "metadata": {},
   "outputs": [],
   "source": [
    "# Set some arbitrary attribute on a data variable/datarray\n",
    "ds.sst.attrs[\"my_custom_attribute\"] = \"Foo Bar\"\n",
    "ds.sst.attrs"
   ]
  },
  {
   "cell_type": "markdown",
   "metadata": {},
   "source": [
    "## Going Further\n",
    "\n",
    "- Xarray Documentation on Data Structures:\n",
    "  https://docs.xarray.dev/en/stable/data-structures.html\n",
    "- Xarray Documentation on Reading files and writing files:\n",
    "  https://docs.xarray.dev/en/stable/user-guide/io.html\n"
   ]
  },
  {
   "cell_type": "markdown",
   "metadata": {},
   "source": [
    "<div class=\"alert alert-block alert-success\">\n",
    "  <p>Next: <a href=\"02_indexing.ipynb\">Indexing</a></p>\n",
    "</div>\n"
   ]
  }
 ],
 "metadata": {
  "language_info": {
   "codemirror_mode": {
    "name": "ipython",
    "version": 3
   },
   "file_extension": ".py",
   "mimetype": "text/x-python",
   "name": "python",
   "nbconvert_exporter": "python",
   "pygments_lexer": "ipython3"
  },
  "toc": {
   "base_numbering": 1,
   "nav_menu": {},
   "number_sections": true,
   "sideBar": true,
   "skip_h1_title": false,
   "title_cell": "Table of Contents",
   "title_sidebar": "Contents",
   "toc_cell": true,
   "toc_position": {},
   "toc_section_display": true,
   "toc_window_display": true
  },
  "toc-autonumbering": true
 },
 "nbformat": 4,
 "nbformat_minor": 4
}
